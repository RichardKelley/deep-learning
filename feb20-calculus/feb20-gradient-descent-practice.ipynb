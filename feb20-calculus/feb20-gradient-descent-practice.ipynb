{
 "metadata": {
  "name": "",
  "signature": "sha256:6f1fed3ddeb56cb9e4c397e266e4f3783fa0a470106019bdba25fa82d9d379cc"
 },
 "nbformat": 3,
 "nbformat_minor": 0,
 "worksheets": [
  {
   "cells": [
    {
     "cell_type": "markdown",
     "metadata": {},
     "source": [
      "1. Use gradient descent (ascent?) to show that $p = 0.5$ maximizes entropy for a bernoulli random variable.\n",
      "\n",
      "2. Suppose you are given a list of $n$ points $(x_1, y_1), \\ldots, (x_n, y_n)$. Consider the function $f(a, b) = \\frac{1}{2n} \\sum_{i=1}^n (a x_i + b) - y_i )^2$. Use gradient descent to minimize this function.\n",
      "    - use a scatter plot to visualize the points.\n",
      "    - if you plot the line $ax + b$ using the $a$ and $b$ that result from your optimization, what do you get?\n",
      "    \n",
      "I have provided a few $x$'s and $y$'s for you to play with below."
     ]
    },
    {
     "cell_type": "code",
     "collapsed": false,
     "input": [
      "import numpy as np"
     ],
     "language": "python",
     "metadata": {},
     "outputs": [],
     "prompt_number": 1
    },
    {
     "cell_type": "code",
     "collapsed": false,
     "input": [
      "x1 = np.linspace(0,1, 20)\n",
      "y1 = x1"
     ],
     "language": "python",
     "metadata": {},
     "outputs": [],
     "prompt_number": 4
    },
    {
     "cell_type": "code",
     "collapsed": false,
     "input": [
      "x2 = np.linspace(0, 1, 20)\n",
      "y2 = 2 * x2"
     ],
     "language": "python",
     "metadata": {},
     "outputs": [],
     "prompt_number": 5
    },
    {
     "cell_type": "code",
     "collapsed": false,
     "input": [
      "x3 = np.linspace(0, 1, 20)\n",
      "y3 = 2 * x3 + 5"
     ],
     "language": "python",
     "metadata": {},
     "outputs": [],
     "prompt_number": 6
    },
    {
     "cell_type": "code",
     "collapsed": false,
     "input": [
      "x4 = np.linspace(0, 1, 20)\n",
      "y4 = 2 * x3 + 5 + 0.1 * np.random.randn(20)"
     ],
     "language": "python",
     "metadata": {},
     "outputs": [],
     "prompt_number": 12
    }
   ],
   "metadata": {}
  }
 ]
}
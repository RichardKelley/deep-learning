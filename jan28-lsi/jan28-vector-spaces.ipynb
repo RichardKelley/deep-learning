{
 "metadata": {
  "name": "",
  "signature": "sha256:10a7319985436df42809d8228a835f5de1e1314e68aa9c8f34c73665669e2baa"
 },
 "nbformat": 3,
 "nbformat_minor": 0,
 "worksheets": [
  {
   "cells": [
    {
     "cell_type": "code",
     "collapsed": false,
     "input": [
      "import numpy as np\n",
      "from collections import defaultdict"
     ],
     "language": "python",
     "metadata": {},
     "outputs": [],
     "prompt_number": 6
    },
    {
     "cell_type": "code",
     "collapsed": false,
     "input": [
      "def build_lexicon(docs):\n",
      "    '''\n",
      "    Given a list of strings representing representing a collection of documents, \n",
      "    return a sorted list of the terms that appear in the documents\n",
      "    '''\n",
      "    lexicon = []\n",
      "    for d in docs:\n",
      "        for t in d.split():\n",
      "            if t not in lexicon:\n",
      "                lexicon.append(t)\n",
      "    return sort(lexicon)"
     ],
     "language": "python",
     "metadata": {},
     "outputs": [],
     "prompt_number": 7
    },
    {
     "cell_type": "code",
     "collapsed": false,
     "input": [
      "def build_inverted_index(documents):\n",
      "    '''\n",
      "    Build an inverted index for a collection of documents: for each term in the \n",
      "    vocabulary, a list of the documents containing that term.\n",
      "    '''\n",
      "    index = defaultdict(list)\n",
      "    lexicon = build_lexicon(documents)\n",
      "    for term in lexicon:\n",
      "        index[term] = []\n",
      "        for d in documents:\n",
      "            if term in d.split():\n",
      "                index[term].append(documents.index(d))\n",
      "    return index"
     ],
     "language": "python",
     "metadata": {},
     "outputs": [],
     "prompt_number": 8
    },
    {
     "cell_type": "code",
     "collapsed": false,
     "input": [
      "#documents = ['peas porridge hot', 'peas porridge cold', 'peas porridge in the pot', 'nine days old']\n",
      "documents = ['The dog and cat ran very very fast', 'The cat sat very still', \n",
      "             'The gazelle ran fast', 'very cat', 'The lion was still', \n",
      "             'very', 'The dog ate the gazelle']"
     ],
     "language": "python",
     "metadata": {},
     "outputs": [],
     "prompt_number": 219
    },
    {
     "cell_type": "code",
     "collapsed": false,
     "input": [
      "lexicon = build_lexicon(documents)\n",
      "index = build_inverted_index(documents)\n",
      "\n",
      "print(type(lexicon))"
     ],
     "language": "python",
     "metadata": {},
     "outputs": [
      {
       "output_type": "stream",
       "stream": "stdout",
       "text": [
        "<type 'numpy.ndarray'>\n"
       ]
      }
     ],
     "prompt_number": 220
    },
    {
     "cell_type": "code",
     "collapsed": false,
     "input": [
      "def build_termdoc_matrix(documents, lexicon=None):\n",
      "    '''\n",
      "    Build a simple binary term-document matrix.\n",
      "    '''\n",
      "    if lexicon == None:\n",
      "        lexicon = build_lexicon(documents)\n",
      "    nrows = len(lexicon)\n",
      "    ncols = len(documents)\n",
      "\n",
      "    termdoc_matrix = np.zeros((nrows, ncols))\n",
      "\n",
      "    for term in lexicon:\n",
      "        for d in documents:\n",
      "            term_idx = list(lexicon).index(term)\n",
      "            doc_idx = documents.index(d)\n",
      "            if term in d:\n",
      "                termdoc_matrix[term_idx, doc_idx] = 1\n",
      "    return termdoc_matrix"
     ],
     "language": "python",
     "metadata": {},
     "outputs": [],
     "prompt_number": 221
    },
    {
     "cell_type": "code",
     "collapsed": false,
     "input": [
      "td_matrix = build_termdoc_matrix(documents)"
     ],
     "language": "python",
     "metadata": {},
     "outputs": [],
     "prompt_number": 222
    },
    {
     "cell_type": "code",
     "collapsed": false,
     "input": [
      "def distance(doc1, doc2):\n",
      "    '''\n",
      "    Returns the cosine distance between doc1 and doc2.\n",
      "    '''\n",
      "    return np.dot(doc1, doc2) / (np.linalg.norm(doc1) * np.linalg.norm(doc2))"
     ],
     "language": "python",
     "metadata": {},
     "outputs": [],
     "prompt_number": 223
    },
    {
     "cell_type": "code",
     "collapsed": false,
     "input": [
      "def build_vector(query, lexicon):\n",
      "    vec = np.zeros(len(lexicon))\n",
      "    parts = query.split()\n",
      "    for part in parts:\n",
      "        vec[np.where(lexicon == part)] = 1\n",
      "    return vec"
     ],
     "language": "python",
     "metadata": {},
     "outputs": [],
     "prompt_number": 224
    },
    {
     "cell_type": "code",
     "collapsed": false,
     "input": [
      "x = build_vector('The cat ran very fast', lexicon)\n",
      "print(x)"
     ],
     "language": "python",
     "metadata": {},
     "outputs": [
      {
       "output_type": "stream",
       "stream": "stdout",
       "text": [
        "[ 1.  0.  0.  1.  0.  1.  0.  0.  1.  0.  0.  0.  1.  0.]\n"
       ]
      }
     ],
     "prompt_number": 225
    },
    {
     "cell_type": "code",
     "collapsed": false,
     "input": [
      "def get_hits(query, docs, index = None):\n",
      "    '''\n",
      "    Return a set containing indices of all documents that match the \n",
      "    search query, optionally constructing an inverted index if none \n",
      "    is provided.\n",
      "    '''\n",
      "    hits = []\n",
      "    query_parts = query.split()\n",
      "    if query_parts == []:\n",
      "        return set()\n",
      "    if index == None:\n",
      "        index = build_inverted_index(docs)\n",
      "    individual_hits = [index[part] for part in query_parts]\n",
      "    return set.intersection(*map(set, individual_hits))"
     ],
     "language": "python",
     "metadata": {},
     "outputs": [],
     "prompt_number": 226
    },
    {
     "cell_type": "code",
     "collapsed": false,
     "input": [
      "def search(query, lexicon, index, tdmat):\n",
      "    '''\n",
      "    Perform a ranked search for the given query using the \n",
      "    given index and term-document matrix.\n",
      "    '''\n",
      "    vec = build_vector(query, lexicon)\n",
      "    candidates = get_hits(query, documents, index)\n",
      "    for c in candidates:\n",
      "        print distance(vec, tdmat[:, c])\n",
      "    results = sorted(list(candidates), key=lambda w: distance(vec, tdmat[:, w]), reverse=True)\n",
      "    return results"
     ],
     "language": "python",
     "metadata": {},
     "outputs": [],
     "prompt_number": 227
    },
    {
     "cell_type": "code",
     "collapsed": false,
     "input": [
      "search('cat very', lexicon, index, td_matrix)"
     ],
     "language": "python",
     "metadata": {},
     "outputs": [
      {
       "output_type": "stream",
       "stream": "stdout",
       "text": [
        "0.534522483825\n",
        "0.632455532034\n",
        "1.0\n"
       ]
      },
      {
       "metadata": {},
       "output_type": "pyout",
       "prompt_number": 228,
       "text": [
        "[3, 1, 0]"
       ]
      }
     ],
     "prompt_number": 228
    },
    {
     "cell_type": "code",
     "collapsed": false,
     "input": [
      "def get_docs(idx_list, docs):\n",
      "    '''\n",
      "    Given a list of documents and indices, return the documents corresponding \n",
      "    to the given indices. Useful for printing.\n",
      "    '''\n",
      "    ds = []\n",
      "    for idx in idx_list:\n",
      "        ds.append(docs[idx])\n",
      "    return ds"
     ],
     "language": "python",
     "metadata": {},
     "outputs": [],
     "prompt_number": 229
    },
    {
     "cell_type": "code",
     "collapsed": false,
     "input": [
      "print(get_docs(search('cat very', lexicon, index, td_matrix), documents))"
     ],
     "language": "python",
     "metadata": {},
     "outputs": [
      {
       "output_type": "stream",
       "stream": "stdout",
       "text": [
        "0.534522483825\n",
        "0.632455532034\n",
        "1.0\n",
        "['very cat', 'The cat sat very still', 'The dog and cat ran very very fast']\n"
       ]
      }
     ],
     "prompt_number": 230
    }
   ],
   "metadata": {}
  }
 ]
}
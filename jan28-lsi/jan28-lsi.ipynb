{
 "metadata": {
  "name": "",
  "signature": "sha256:bc3af968be8c882ba66880a79e9a354814e1d3b383a944a2a36a4c3ae6c7581c"
 },
 "nbformat": 3,
 "nbformat_minor": 0,
 "worksheets": [
  {
   "cells": [
    {
     "cell_type": "code",
     "collapsed": false,
     "input": [
      "from collections import defaultdict\n",
      "import numpy as np\n",
      "import matplotlib.pyplot as plt "
     ],
     "language": "python",
     "metadata": {},
     "outputs": [],
     "prompt_number": 2
    },
    {
     "cell_type": "code",
     "collapsed": false,
     "input": [
      "def build_lexicon(docs):\n",
      "    '''\n",
      "    Given a list of strings representing representing a collection of documents, \n",
      "    return a sorted list of the terms that appear in the documents\n",
      "    '''\n",
      "    lexicon = []\n",
      "    for d in docs:\n",
      "        for t in d.split():\n",
      "            if t not in lexicon:\n",
      "                lexicon.append(t)\n",
      "    return sort(lexicon)"
     ],
     "language": "python",
     "metadata": {},
     "outputs": [],
     "prompt_number": 3
    },
    {
     "cell_type": "code",
     "collapsed": false,
     "input": [
      "def build_inverted_index(documents):\n",
      "    '''\n",
      "    Build an inverted index for a collection of documents: for each term in the \n",
      "    vocabulary, a list of the documents containing that term.\n",
      "    '''\n",
      "    index = defaultdict(list)\n",
      "    lexicon = build_lexicon(documents)\n",
      "    for term in lexicon:\n",
      "        index[term] = []\n",
      "        for d in documents:\n",
      "            if term in d.split():\n",
      "                index[term].append(documents.index(d))\n",
      "    return index"
     ],
     "language": "python",
     "metadata": {},
     "outputs": [],
     "prompt_number": 4
    },
    {
     "cell_type": "code",
     "collapsed": false,
     "input": [
      "#documents = ['peas porridge hot', 'peas porridge cold', 'peas porridge in the pot', 'nine days old']\n",
      "documents = ['The dog ran fast', 'The cat sat still', 'The gazelle ran fast', 'The lion was still', 'The dog ate the gazelle']"
     ],
     "language": "python",
     "metadata": {},
     "outputs": [],
     "prompt_number": 5
    },
    {
     "cell_type": "code",
     "collapsed": false,
     "input": [
      "lexicon = build_lexicon(documents)\n",
      "index = build_inverted_index(documents)\n",
      "\n",
      "print(type(lexicon))"
     ],
     "language": "python",
     "metadata": {},
     "outputs": [
      {
       "output_type": "stream",
       "stream": "stdout",
       "text": [
        "<type 'numpy.ndarray'>\n"
       ]
      }
     ],
     "prompt_number": 6
    },
    {
     "cell_type": "code",
     "collapsed": false,
     "input": [
      "print(index)"
     ],
     "language": "python",
     "metadata": {},
     "outputs": [
      {
       "output_type": "stream",
       "stream": "stdout",
       "text": [
        "defaultdict(<type 'list'>, {'ate': [4], 'gazelle': [2, 4], 'ran': [0, 2], 'dog': [0, 4], 'fast': [0, 2], 'cat': [1], 'lion': [3], 'The': [0, 1, 2, 3, 4], 'still': [1, 3], 'was': [3], 'the': [4], 'sat': [1]})\n"
       ]
      }
     ],
     "prompt_number": 7
    },
    {
     "cell_type": "code",
     "collapsed": false,
     "input": [
      "nrows = len(lexicon)\n",
      "ncols = len(documents)\n",
      "\n",
      "print((nrows, ncols))\n",
      "\n",
      "termdoc_matrix = np.zeros((nrows, ncols))\n",
      "\n",
      "print(termdoc_matrix)"
     ],
     "language": "python",
     "metadata": {},
     "outputs": [
      {
       "output_type": "stream",
       "stream": "stdout",
       "text": [
        "(12, 5)\n",
        "[[ 0.  0.  0.  0.  0.]\n",
        " [ 0.  0.  0.  0.  0.]\n",
        " [ 0.  0.  0.  0.  0.]\n",
        " [ 0.  0.  0.  0.  0.]\n",
        " [ 0.  0.  0.  0.  0.]\n",
        " [ 0.  0.  0.  0.  0.]\n",
        " [ 0.  0.  0.  0.  0.]\n",
        " [ 0.  0.  0.  0.  0.]\n",
        " [ 0.  0.  0.  0.  0.]\n",
        " [ 0.  0.  0.  0.  0.]\n",
        " [ 0.  0.  0.  0.  0.]\n",
        " [ 0.  0.  0.  0.  0.]]\n"
       ]
      }
     ],
     "prompt_number": 8
    },
    {
     "cell_type": "code",
     "collapsed": false,
     "input": [
      "for term in lexicon:\n",
      "    for d in documents:\n",
      "        term_idx = list(lexicon).index(term)\n",
      "        doc_idx = documents.index(d)\n",
      "        if term in d:\n",
      "            termdoc_matrix[term_idx, doc_idx] = 1\n",
      "\n",
      "print lexicon\n",
      "print termdoc_matrix"
     ],
     "language": "python",
     "metadata": {},
     "outputs": [
      {
       "output_type": "stream",
       "stream": "stdout",
       "text": [
        "['The' 'ate' 'cat' 'dog' 'fast' 'gazelle' 'lion' 'ran' 'sat' 'still' 'the'\n",
        " 'was']\n",
        "[[ 1.  1.  1.  1.  1.]\n",
        " [ 0.  0.  0.  0.  1.]\n",
        " [ 0.  1.  0.  0.  0.]\n",
        " [ 1.  0.  0.  0.  1.]\n",
        " [ 1.  0.  1.  0.  0.]\n",
        " [ 0.  0.  1.  0.  1.]\n",
        " [ 0.  0.  0.  1.  0.]\n",
        " [ 1.  0.  1.  0.  0.]\n",
        " [ 0.  1.  0.  0.  0.]\n",
        " [ 0.  1.  0.  1.  0.]\n",
        " [ 0.  0.  0.  0.  1.]\n",
        " [ 0.  0.  0.  1.  0.]]\n"
       ]
      }
     ],
     "prompt_number": 9
    },
    {
     "cell_type": "heading",
     "level": 2,
     "metadata": {},
     "source": [
      "New Stuff: Latent Semantic Indexing"
     ]
    },
    {
     "cell_type": "code",
     "collapsed": false,
     "input": [
      "u, s, v = np.linalg.svd(termdoc_matrix)"
     ],
     "language": "python",
     "metadata": {},
     "outputs": [],
     "prompt_number": 10
    },
    {
     "cell_type": "code",
     "collapsed": false,
     "input": [
      "print(u)"
     ],
     "language": "python",
     "metadata": {},
     "outputs": [
      {
       "output_type": "stream",
       "stream": "stdout",
       "text": [
        "[[ -6.83810697e-01  -1.80008139e-01   2.77555756e-17   1.39579017e-16\n",
        "   -2.79557918e-16  -4.14198865e-01   2.01732033e-01  -3.84476034e-01\n",
        "   -1.02781051e-01   9.89509817e-02  -2.80839121e-01   2.01732033e-01]\n",
        " [ -1.56396775e-01   1.31174371e-01   4.71404521e-01   4.91562137e-16\n",
        "   -1.03822164e-16  -3.04663506e-01  -2.35273228e-01   3.15241717e-01\n",
        "   -3.26849956e-01  -5.62123184e-01  -1.01948851e-01  -2.35273228e-01]\n",
        " [ -1.07310187e-01  -2.86765625e-01   2.70616862e-16  -5.00000000e-01\n",
        "   -4.45603025e-16   4.76869546e-01   2.71731677e-01   1.13396881e-01\n",
        "   -4.71377996e-01  -1.99646319e-01   7.90854434e-02   2.71731677e-01]\n",
        " [ -3.12793550e-01   2.62348741e-01   2.35702260e-01   4.99156720e-16\n",
        "   -7.07106781e-01   4.29781191e-01  -7.53222193e-02   8.91196631e-03\n",
        "    1.83869279e-01   1.08547059e-01  -1.89866357e-01  -7.53222193e-02]\n",
        " [ -3.12793550e-01   2.62348741e-01  -4.71404521e-01  -3.29776209e-16\n",
        "    3.85348943e-16   1.29156172e-01  -2.42478039e-01  -3.62257160e-01\n",
        "   -1.00785801e-01  -3.43263839e-01   4.66498130e-01  -2.42478039e-01]\n",
        " [ -3.12793550e-01   2.62348741e-01   2.35702260e-01   1.10578661e-16\n",
        "    7.07106781e-01   4.29781191e-01  -7.53222193e-02   8.91196631e-03\n",
        "    1.83869279e-01   1.08547059e-01  -1.89866357e-01  -7.53222193e-02]\n",
        " [ -1.07310187e-01  -2.86765625e-01  -6.24500451e-17   5.00000000e-01\n",
        "   -2.12119697e-17   1.78213682e-01   6.13999929e-01   9.95745830e-02\n",
        "    1.26280611e-01  -2.59719460e-01   7.19849128e-02  -3.86000071e-01]\n",
        " [ -3.12793550e-01   2.62348741e-01  -4.71404521e-01  -3.29776209e-16\n",
        "    3.85348943e-16  -1.44738498e-01   1.16068225e-01   7.37821228e-01\n",
        "    1.96975733e-02   1.35765798e-01   4.20734784e-03   1.16068225e-01]\n",
        " [ -1.07310187e-01  -2.86765625e-01   6.80011603e-16  -5.00000000e-01\n",
        "   -3.55397404e-16  -1.20442181e-01  -4.37318195e-02   8.57522852e-02\n",
        "    7.23939218e-01  -3.19792601e-01   6.48843823e-02  -4.37318195e-02]\n",
        " [ -2.14620373e-01  -5.73531251e-01   6.66133815e-16  -1.42783570e-17\n",
        "   -3.76609374e-16   5.77715007e-02  -4.29731891e-01   1.85326868e-01\n",
        "   -1.49780171e-01   4.20487939e-01   1.36869295e-01  -4.29731891e-01]\n",
        " [ -1.56396775e-01   1.31174371e-01   4.71404521e-01   4.42000219e-16\n",
        "   -1.42580716e-16  -1.40700011e-01   1.84185634e-01   5.14103848e-02\n",
        "    6.18924497e-02   2.46078084e-01   7.62520686e-01   1.84185634e-01]\n",
        " [ -1.07310187e-01  -2.86765625e-01  -6.24500451e-17   5.00000000e-01\n",
        "   -2.12119697e-17   1.78213682e-01  -3.86000071e-01   9.95745830e-02\n",
        "    1.26280611e-01  -2.59719460e-01   7.19849128e-02   6.13999929e-01]]\n"
       ]
      }
     ],
     "prompt_number": 11
    },
    {
     "cell_type": "code",
     "collapsed": false,
     "input": [
      "print(s)"
     ],
     "language": "python",
     "metadata": {},
     "outputs": [
      {
       "output_type": "stream",
       "stream": "stdout",
       "text": [
        "[ 3.22060263  2.1512133   1.73205081  1.41421356  1.        ]\n"
       ]
      }
     ],
     "prompt_number": 12
    },
    {
     "cell_type": "code",
     "collapsed": false,
     "input": [
      "print(v)"
     ],
     "language": "python",
     "metadata": {},
     "outputs": [
      {
       "output_type": "stream",
       "stream": "stdout",
       "text": [
        "[[ -5.03691865e-01  -3.45603469e-01  -5.03691865e-01  -3.45603469e-01\n",
        "   -5.03691865e-01]\n",
        " [  2.82184051e-01  -6.16894028e-01   2.82184051e-01  -6.16894028e-01\n",
        "    2.82184051e-01]\n",
        " [ -4.08248290e-01   1.20736754e-15  -4.08248290e-01  -4.82253126e-16\n",
        "    8.16496581e-01]\n",
        " [  0.00000000e+00  -7.07106781e-01  -8.32667268e-16   7.07106781e-01\n",
        "    1.16573418e-15]\n",
        " [ -7.07106781e-01  -5.55111512e-16   7.07106781e-01   0.00000000e+00\n",
        "   -1.11022302e-16]]\n"
       ]
      }
     ],
     "prompt_number": 13
    },
    {
     "cell_type": "code",
     "collapsed": false,
     "input": [
      "fig = plt.figure(figsize=(10,6))\n",
      "ax = fig.add_subplot(1,2,1)\n",
      "ax.set_xlim([-1.5,1.5])\n",
      "ax.set_ylim([-1.5,1.5])\n",
      "\n",
      "data = (v.copy()[:,[0,1]])\n",
      "for n in range(data.shape[0]):\n",
      "    data[n,0] = data[n,0] / math.sqrt((data[n,0]**2 + data[n,1]**2)) + np.random.normal(0, 0.05)\n",
      "    data[n,1] = data[n,1] / math.sqrt((data[n,0]**2 + data[n,1]**2)) + np.random.normal(0, 0.05)\n",
      "    \n",
      "colors = np.r_[np.linspace(0.1, 1, data.shape[0]), np.linspace(0.1, 1, data.shape[0])] \n",
      "mymap = plt.get_cmap(\"Set1\")\n",
      "my_colors = mymap(colors)\n",
      "\n",
      "scatter(data[:,0], data[:,1], \n",
      "                c=colors, edgecolors='None',\n",
      "                cmap=mymap)\n",
      "for n in range(data.shape[0]):\n",
      "    scatter(data[n, 0], data[n, 1],\n",
      "                    color=my_colors[n], edgecolors='None',\n",
      "                    label=\"Document %d\" %(n))\n",
      "plt.legend(scatterpoints=1)\n",
      "plt.tight_layout()\n",
      "\n",
      "# Second Document\n",
      "ax = fig.add_subplot(1,2,2)\n",
      "\n",
      "data = (u.copy()[[0,1],:])\n",
      "for n in range(data.shape[0]):\n",
      "    data[n,0] = data[n,0] / math.sqrt((data[n,0]**2 + data[n,1]**2)) + np.random.normal(0, 0.01)\n",
      "    data[n,1] = data[n,1] / math.sqrt((data[n,0]**2 + data[n,1]**2)) + np.random.normal(0, 0.01)\n",
      "    \n",
      "ax.set_xlim([-1.5,1.5])\n",
      "ax.set_ylim([-1.5,1.5])\n",
      "\n",
      "colors = np.r_[np.linspace(0.1, 1, u.shape[1]), np.linspace(0.1, 1, u.shape[1])] \n",
      "mymap = plt.get_cmap(\"Set1\")\n",
      "my_colors = mymap(colors)\n",
      "\n",
      "scatter(data[0,:], data[1,:], \n",
      "                c=colors, edgecolors='None',\n",
      "                cmap=mymap)\n",
      "for n in range(data.shape[1]):\n",
      "    scatter(data[0,n], data[1,n], \n",
      "                    color=my_colors[n], edgecolors='None',\n",
      "                    label=\"%s\" %(lexicon[n]))\n",
      "plt.legend(scatterpoints=1)\n",
      "plt.tight_layout()\n",
      "\n",
      "plt.show()\n",
      "\n",
      "for idx, d in enumerate(documents):\n",
      "    print(idx, d)"
     ],
     "language": "python",
     "metadata": {},
     "outputs": [
      {
       "metadata": {},
       "output_type": "display_data",
       "png": "[encoded data removed]",
       "text": [
        "<matplotlib.figure.Figure at 0x10ef41690>"
       ]
      },
      {
       "output_type": "stream",
       "stream": "stdout",
       "text": [
        "(0, 'The dog ran fast')\n",
        "(1, 'The cat sat still')\n",
        "(2, 'The gazelle ran fast')\n",
        "(3, 'The lion was still')\n",
        "(4, 'The dog ate the gazelle')\n"
       ]
      }
     ],
     "prompt_number": 14
    },
    {
     "cell_type": "code",
     "collapsed": false,
     "input": [],
     "language": "python",
     "metadata": {},
     "outputs": []
    }
   ],
   "metadata": {}
  }
 ]
}
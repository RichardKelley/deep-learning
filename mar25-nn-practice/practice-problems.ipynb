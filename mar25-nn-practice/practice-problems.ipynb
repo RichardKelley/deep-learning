{
 "metadata": {
  "language": "lua",
  "name": "",
  "signature": "sha256:6a0cf7ad4261b5f3e14f1ba0b5371d6db1e74c8e14b5455e8e5f4b172162065e"
 },
 "nbformat": 3,
 "nbformat_minor": 0,
 "worksheets": [
  {
   "cells": [
    {
     "cell_type": "heading",
     "level": 1,
     "metadata": {},
     "source": [
      "Neural Network Practice"
     ]
    },
    {
     "cell_type": "markdown",
     "metadata": {},
     "source": [
      "To start applying neural nets to practical problems, you need to understand _hyperparameters_ and the impact that they have on the performance of a neural net. Here are some problems to help you out. For all of these, use the MNIST dataset, or construct your own from the Titanic dataset.\n",
      "\n",
      "1. Figure out how to print the weights in a network.\n",
      "2. Figure out how to print the _norm_ of the weights in a network.\n",
      "3. Figure out how to print the gradient of the weights during training.\n",
      "4. Figure out how to print the _norm_ of the gradient of the weights in a network.\n",
      "5. What actually happens when you string multiple linear layers together without an intervening hidden layer?\n",
      "5. For MNIST, how does the choice of activation function impact performance?\n",
      "6. For MNIST, how does the number of hidden units impact performance?\n",
      "7. For MNIST, how does the number of hidden _layers_ impact performance?\n",
      "8. For MNIST, how does the learning rate impact performance?\n",
      "9. For MNIST, how does the _weight decay_ parameter impact performance?\n",
      "10. For MNIST, how does the _momentum_ parameter impact performance?"
     ]
    },
    {
     "cell_type": "code",
     "collapsed": false,
     "input": [],
     "language": "python",
     "metadata": {},
     "outputs": []
    }
   ],
   "metadata": {}
  }
 ]
}
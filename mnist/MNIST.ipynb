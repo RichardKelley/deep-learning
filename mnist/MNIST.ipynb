{
 "metadata": {
  "name": "",
  "signature": "sha256:1664467f69348c9203c09679c01e81ab5ebaab7141b2476b2822b903be5219fc"
 },
 "nbformat": 3,
 "nbformat_minor": 0,
 "worksheets": [
  {
   "cells": [
    {
     "cell_type": "code",
     "collapsed": false,
     "input": [
      "def shared_dataset(data_xy):\n",
      "    \"\"\" Function that loads the dataset into shared variables\n",
      "\n",
      "    The reason we store our dataset in shared variables is to allow\n",
      "    Theano to copy it into the GPU memory (when code is run on GPU).\n",
      "    Since copying data into the GPU is slow, copying a minibatch everytime\n",
      "    is needed (the default behaviour if the data is not in a shared\n",
      "    variable) would lead to a large decrease in performance.\n",
      "    \"\"\"\n",
      "    data_x, data_y = data_xy\n",
      "    shared_x = theano.shared(numpy.asarray(data_x, dtype=theano.config.floatX))\n",
      "    shared_y = theano.shared(numpy.asarray(data_y, dtype=theano.config.floatX))\n",
      "    # When storing data on the GPU it has to be stored as floats\n",
      "    # therefore we will store the labels as ``floatX`` as well\n",
      "    # (``shared_y`` does exactly that). But during our computations\n",
      "    # we need them as ints (we use labels as index, and if they are\n",
      "    # floats it doesn't make sense) therefore instead of returning\n",
      "    # ``shared_y`` we will have to cast it to int. This little hack\n",
      "    # lets us get around this issue\n",
      "    return shared_x, T.cast(shared_y, 'int32')\n",
      "\n",
      "test_set_x, test_set_y = shared_dataset(test_set)\n",
      "valid_set_x, valid_set_y = shared_dataset(valid_set)\n",
      "train_set_x, train_set_y = shared_dataset(train_set)"
     ],
     "language": "python",
     "metadata": {},
     "outputs": [],
     "prompt_number": 3
    },
    {
     "cell_type": "code",
     "collapsed": false,
     "input": [
      "%matplotlib inline\n",
      "import matplotlib.pyplot as plt\n",
      "import cPickle, gzip, numpy\n",
      "import theano\n",
      "import theano.tensor as T\n",
      "from keras.utils import np_utils"
     ],
     "language": "python",
     "metadata": {},
     "outputs": [
      {
       "output_type": "stream",
       "stream": "stdout",
       "text": [
        "Couldn't import dot_parser, loading of dot files will not be possible.\n"
       ]
      }
     ],
     "prompt_number": 1
    },
    {
     "cell_type": "code",
     "collapsed": false,
     "input": [
      "# Load the dataset\n",
      "f = gzip.open('mnist.pkl.gz', 'rb')\n",
      "train_set, valid_set, test_set = cPickle.load(f)\n",
      "f.close()\n",
      "\n",
      "train_set_x = train_set[0]\n",
      "train_set_y = np_utils.to_categorical(train_set[1], 10)\n",
      "\n",
      "test_set_x = test_set[0]\n",
      "test_set_y = np_utils.to_categorical(test_set[1], 10)"
     ],
     "language": "python",
     "metadata": {},
     "outputs": [],
     "prompt_number": 2
    },
    {
     "cell_type": "code",
     "collapsed": false,
     "input": [
      "print train_set_x.shape"
     ],
     "language": "python",
     "metadata": {},
     "outputs": [
      {
       "output_type": "stream",
       "stream": "stdout",
       "text": [
        "(50000, 784)\n"
       ]
      }
     ],
     "prompt_number": 3
    },
    {
     "cell_type": "code",
     "collapsed": false,
     "input": [
      "plt.figure()\n",
      "plt.imshow(train_set[0][2].reshape((28,28)))\n",
      "print \"Actual: \", train_set[1][2]\n",
      "print \"ArgMax: \", numpy.argmax(train_set_y[2])"
     ],
     "language": "python",
     "metadata": {},
     "outputs": [
      {
       "output_type": "stream",
       "stream": "stdout",
       "text": [
        "Actual:  4\n",
        "ArgMax:  4\n"
       ]
      },
      {
       "metadata": {},
       "output_type": "display_data",
       "png": "[encoded data removed]",
       "text": [
        "<matplotlib.figure.Figure at 0x1f139d0>"
       ]
      }
     ],
     "prompt_number": 4
    },
    {
     "cell_type": "code",
     "collapsed": false,
     "input": [
      "def test_set_error(model, n=10000):\n",
      "    out = model.predict_proba(test_set_x[:n])\n",
      "\n",
      "    correct = 0\n",
      "    for i in numpy.arange(n):\n",
      "        if numpy.argmax(out[i]) == numpy.argmax(test_set_y[i]): correct += 1\n",
      "        #print numpy.argmax(out[i]), numpy.argmax(test_set_y[i])\n",
      "\n",
      "    return 100.0 - correct/10000.0*100.0"
     ],
     "language": "python",
     "metadata": {},
     "outputs": [],
     "prompt_number": 15
    },
    {
     "cell_type": "code",
     "collapsed": false,
     "input": [
      "print train_set[0][0].shape\n",
      "print type(test_set_x) == T.sharedvar.TensorSharedVariable\n",
      "print type(train_set) == T.sharedvar.TensorSharedVariable"
     ],
     "language": "python",
     "metadata": {},
     "outputs": [
      {
       "output_type": "stream",
       "stream": "stdout",
       "text": [
        "(784,)\n",
        "False\n",
        "False\n"
       ]
      }
     ],
     "prompt_number": 6
    },
    {
     "cell_type": "heading",
     "level": 1,
     "metadata": {},
     "source": [
      "Good Baseline"
     ]
    },
    {
     "cell_type": "markdown",
     "metadata": {},
     "source": [
      "* Network: 784 -> 64 -> 64 ->10\n",
      "* Activations: ReLU -> ReLU -> Softmax\n",
      "* Dropout: 10% -> 90% -> 0%\n",
      "* HyperParameters:\n",
      "    - Learning Rate: .1\n",
      "    - Weight Decay: .000001\n",
      "    - Momentum: .5"
     ]
    },
    {
     "cell_type": "code",
     "collapsed": false,
     "input": [
      "from keras.models import Sequential\n",
      "from keras.layers.core import Dense, Dropout, Activation\n",
      "from keras.optimizers import SGD\n",
      "\n",
      "model = Sequential()\n",
      "model.add(Dense(784, 64, init='uniform'))\n",
      "model.add(Activation('relu'))\n",
      "model.add(Dropout(0.9))\n",
      "model.add(Dense(64, 64, init='uniform'))\n",
      "model.add(Activation('relu'))\n",
      "model.add(Dropout(0.9))\n",
      "model.add(Dense(64, 10, init='uniform'))\n",
      "model.add(Activation('softmax'))\n",
      "\n",
      "sgd = SGD(lr=0.1, decay=1e-6, momentum=0.5, nesterov=True)\n",
      "model.compile(loss='categorical_crossentropy', optimizer=sgd)\n",
      "\n",
      "model.fit(train_set_x, train_set_y, nb_epoch=125, batch_size=600, verbose=False)\n",
      "\n",
      "test_set_error(model)"
     ],
     "language": "python",
     "metadata": {},
     "outputs": [],
     "prompt_number": 5
    },
    {
     "cell_type": "heading",
     "level": 1,
     "metadata": {},
     "source": [
      "Stacked Linear Layers"
     ]
    },
    {
     "cell_type": "markdown",
     "metadata": {},
     "source": [
      "* Network: 784 -> 64 -> 64 ->10\n",
      "* Activations: Linear -> Linear -> Softmax\n",
      "* Dropout: 0% -> 0% -> 0%\n",
      "* HyperParameters:\n",
      "    - Learning Rate: .1\n",
      "    - Weight Decay: .000001\n",
      "    - Momentum: .5"
     ]
    },
    {
     "cell_type": "code",
     "collapsed": false,
     "input": [
      "from keras.models import Sequential\n",
      "from keras.layers.core import Dense, Dropout, Activation\n",
      "from keras.optimizers import SGD\n",
      "\n",
      "model = Sequential()\n",
      "model.add(Dense(784, 64, init='uniform'))\n",
      "model.add(Activation('linear'))\n",
      "#model.add(Dropout(0.1))\n",
      "model.add(Dense(64, 64, init='uniform'))\n",
      "model.add(Activation('linear'))\n",
      "#model.add(Dropout(0.9))\n",
      "model.add(Dense(64, 10, init='uniform'))\n",
      "model.add(Activation('softmax'))\n",
      "\n",
      "sgd = SGD(lr=0.1, decay=1e-6, momentum=0.5, nesterov=True)\n",
      "model.compile(loss='categorical_crossentropy', optimizer=sgd)\n",
      "\n",
      "model.fit(train_set_x, train_set_y, nb_epoch=125, batch_size=600, verbose=False)\n",
      "\n",
      "print test_set_error(model)"
     ],
     "language": "python",
     "metadata": {},
     "outputs": [
      {
       "output_type": "stream",
       "stream": "stdout",
       "text": [
        "7.79\n"
       ]
      }
     ],
     "prompt_number": 14
    },
    {
     "cell_type": "heading",
     "level": 1,
     "metadata": {},
     "source": [
      "Single Linear Layer"
     ]
    },
    {
     "cell_type": "markdown",
     "metadata": {},
     "source": [
      "* Network: 784 -> 64 ->10\n",
      "* Activations: Linear -> Softmax\n",
      "* Dropout: 0% -> 0%\n",
      "* HyperParameters:\n",
      "    - Learning Rate: .1\n",
      "    - Weight Decay: .000001\n",
      "    - Momentum: .5"
     ]
    },
    {
     "cell_type": "code",
     "collapsed": false,
     "input": [
      "from keras.models import Sequential\n",
      "from keras.layers.core import Dense, Dropout, Activation\n",
      "from keras.optimizers import SGD\n",
      "\n",
      "model = Sequential()\n",
      "model.add(Dense(784, 64, init='uniform'))\n",
      "model.add(Activation('linear'))\n",
      "#model.add(Dropout(0.1))\n",
      "#model.add(Dense(64, 64, init='uniform'))\n",
      "#model.add(Activation('linear'))\n",
      "#model.add(Dropout(0.9))\n",
      "model.add(Dense(64, 10, init='uniform'))\n",
      "model.add(Activation('softmax'))\n",
      "\n",
      "sgd = SGD(lr=0.1, decay=1e-6, momentum=0.5, nesterov=True)\n",
      "model.compile(loss='categorical_crossentropy', optimizer=sgd)\n",
      "\n",
      "model.fit(train_set_x, train_set_y, nb_epoch=125, batch_size=600, verbose=False)\n",
      "\n",
      "print test_set_error(model)"
     ],
     "language": "python",
     "metadata": {},
     "outputs": [
      {
       "output_type": "stream",
       "stream": "stdout",
       "text": [
        "7.59\n"
       ]
      }
     ],
     "prompt_number": 16
    },
    {
     "cell_type": "heading",
     "level": 1,
     "metadata": {},
     "source": [
      "Activation Functions"
     ]
    },
    {
     "cell_type": "markdown",
     "metadata": {},
     "source": [
      "* Network: 784 -> 64 -> 64 ->10\n",
      "* Dropout: 0% -> 0% -> 0%\n",
      "* HyperParameters:\n",
      "    - Learning Rate: .1\n",
      "    - Weight Decay: .000001\n",
      "    - Momentum: .5"
     ]
    },
    {
     "cell_type": "heading",
     "level": 2,
     "metadata": {},
     "source": [
      "Sigmoid"
     ]
    },
    {
     "cell_type": "code",
     "collapsed": false,
     "input": [
      "from keras.models import Sequential\n",
      "from keras.layers.core import Dense, Dropout, Activation\n",
      "from keras.optimizers import SGD\n",
      "\n",
      "model = Sequential()\n",
      "model.add(Dense(784, 64, init='uniform'))\n",
      "model.add(Activation('sigmoid'))\n",
      "#model.add(Dropout(0.1))\n",
      "model.add(Dense(64, 64, init='uniform'))\n",
      "model.add(Activation('sigmoid'))\n",
      "#model.add(Dropout(0.9))\n",
      "model.add(Dense(64, 10, init='uniform'))\n",
      "model.add(Activation('softmax'))\n",
      "\n",
      "sgd = SGD(lr=0.1, decay=1e-6, momentum=0.5, nesterov=True)\n",
      "model.compile(loss='categorical_crossentropy', optimizer=sgd)\n",
      "\n",
      "model.fit(train_set_x, train_set_y, nb_epoch=125, batch_size=600, verbose=False)\n",
      "\n",
      "print test_set_error(model)"
     ],
     "language": "python",
     "metadata": {},
     "outputs": [
      {
       "output_type": "stream",
       "stream": "stdout",
       "text": [
        "3.64\n"
       ]
      }
     ],
     "prompt_number": 17
    },
    {
     "cell_type": "heading",
     "level": 2,
     "metadata": {},
     "source": [
      "Hyperbolic Tangent"
     ]
    },
    {
     "cell_type": "code",
     "collapsed": false,
     "input": [
      "from keras.models import Sequential\n",
      "from keras.layers.core import Dense, Dropout, Activation\n",
      "from keras.optimizers import SGD\n",
      "\n",
      "model = Sequential()\n",
      "model.add(Dense(784, 64, init='uniform'))\n",
      "model.add(Activation('tanh'))\n",
      "#model.add(Dropout(0.1))\n",
      "model.add(Dense(64, 64, init='uniform'))\n",
      "model.add(Activation('tanh'))\n",
      "#model.add(Dropout(0.9))\n",
      "model.add(Dense(64, 10, init='uniform'))\n",
      "model.add(Activation('softmax'))\n",
      "\n",
      "sgd = SGD(lr=0.1, decay=1e-6, momentum=0.5, nesterov=True)\n",
      "model.compile(loss='categorical_crossentropy', optimizer=sgd)\n",
      "\n",
      "model.fit(train_set_x, train_set_y, nb_epoch=125, batch_size=600, verbose=False)\n",
      "\n",
      "print test_set_error(model)"
     ],
     "language": "python",
     "metadata": {},
     "outputs": [
      {
       "output_type": "stream",
       "stream": "stdout",
       "text": [
        "2.52\n"
       ]
      }
     ],
     "prompt_number": 18
    },
    {
     "cell_type": "heading",
     "level": 2,
     "metadata": {},
     "source": [
      "LReLU"
     ]
    },
    {
     "cell_type": "code",
     "collapsed": false,
     "input": [
      "from keras.models import Sequential\n",
      "from keras.layers.core import Dense, Dropout\n",
      "from keras.layers.advanced_activations import LeakyReLU\n",
      "from keras.optimizers import SGD\n",
      "\n",
      "model = Sequential()\n",
      "model.add(Dense(784, 64, init='uniform'))\n",
      "model.add(LeakyReLU(alpha=.001))\n",
      "#model.add(Dropout(0.1))\n",
      "model.add(Dense(64, 64, init='uniform'))\n",
      "model.add(LeakyReLU(alpha=.001))\n",
      "#model.add(Dropout(0.9))\n",
      "model.add(Dense(64, 10, init='uniform'))\n",
      "model.add(Activation('softmax'))\n",
      "\n",
      "sgd = SGD(lr=0.1, decay=1e-6, momentum=0.5, nesterov=True)\n",
      "model.compile(loss='categorical_crossentropy', optimizer=sgd)\n",
      "\n",
      "model.fit(train_set_x, train_set_y, nb_epoch=125, batch_size=600, verbose=False)\n",
      "\n",
      "print test_set_error(model)"
     ],
     "language": "python",
     "metadata": {},
     "outputs": [
      {
       "output_type": "stream",
       "stream": "stdout",
       "text": [
        "2.58\n"
       ]
      }
     ],
     "prompt_number": 19
    },
    {
     "cell_type": "heading",
     "level": 2,
     "metadata": {},
     "source": [
      "PReLU"
     ]
    },
    {
     "cell_type": "code",
     "collapsed": false,
     "input": [
      "from keras.models import Sequential\n",
      "from keras.layers.core import Dense, Dropout\n",
      "from keras.layers.advanced_activations import PReLU\n",
      "from keras.optimizers import SGD\n",
      "\n",
      "model = Sequential()\n",
      "model.add(Dense(784, 64, init='uniform'))\n",
      "model.add(PReLU(input_shape=(64,)))\n",
      "#model.add(Dropout(0.1))\n",
      "model.add(Dense(64, 64, init='uniform'))\n",
      "model.add(PReLU(input_shape=(64,)))\n",
      "#model.add(Dropout(0.9))\n",
      "model.add(Dense(64, 10, init='uniform'))\n",
      "model.add(Activation('softmax'))\n",
      "\n",
      "sgd = SGD(lr=0.1, decay=1e-6, momentum=0.5, nesterov=True)\n",
      "model.compile(loss='categorical_crossentropy', optimizer=sgd)\n",
      "\n",
      "model.fit(train_set_x, train_set_y, nb_epoch=125, batch_size=600, verbose=False)\n",
      "\n",
      "print test_set_error(model)"
     ],
     "language": "python",
     "metadata": {},
     "outputs": [
      {
       "output_type": "stream",
       "stream": "stdout",
       "text": [
        "2.48\n"
       ]
      }
     ],
     "prompt_number": 20
    },
    {
     "cell_type": "heading",
     "level": 1,
     "metadata": {},
     "source": [
      "Hidden Units"
     ]
    },
    {
     "cell_type": "heading",
     "level": 2,
     "metadata": {},
     "source": [
      "Double"
     ]
    },
    {
     "cell_type": "code",
     "collapsed": false,
     "input": [
      "from keras.models import Sequential\n",
      "from keras.layers.core import Dense, Dropout\n",
      "from keras.layers.advanced_activations import PReLU\n",
      "from keras.optimizers import SGD\n",
      "\n",
      "model = Sequential()\n",
      "model.add(Dense(784, 128, init='uniform'))\n",
      "model.add(PReLU(input_shape=(128,)))\n",
      "#model.add(Dropout(0.1))\n",
      "model.add(Dense(128, 128, init='uniform'))\n",
      "model.add(PReLU(input_shape=(128,)))\n",
      "#model.add(Dropout(0.9))\n",
      "model.add(Dense(128, 10, init='uniform'))\n",
      "model.add(Activation('softmax'))\n",
      "\n",
      "sgd = SGD(lr=0.1, decay=1e-6, momentum=0.5, nesterov=True)\n",
      "model.compile(loss='categorical_crossentropy', optimizer=sgd)\n",
      "\n",
      "model.fit(train_set_x, train_set_y, nb_epoch=125, batch_size=600, verbose=False)\n",
      "\n",
      "print test_set_error(model)"
     ],
     "language": "python",
     "metadata": {},
     "outputs": [
      {
       "output_type": "stream",
       "stream": "stdout",
       "text": [
        "2.22\n"
       ]
      }
     ],
     "prompt_number": 22
    },
    {
     "cell_type": "heading",
     "level": 2,
     "metadata": {},
     "source": [
      "Half"
     ]
    },
    {
     "cell_type": "code",
     "collapsed": false,
     "input": [
      "from keras.models import Sequential\n",
      "from keras.layers.core import Dense, Dropout\n",
      "from keras.layers.advanced_activations import PReLU\n",
      "from keras.optimizers import SGD\n",
      "\n",
      "model = Sequential()\n",
      "model.add(Dense(784, 32, init='uniform'))\n",
      "model.add(PReLU(input_shape=(32,)))\n",
      "#model.add(Dropout(0.1))\n",
      "model.add(Dense(32, 32, init='uniform'))\n",
      "model.add(PReLU(input_shape=(32,)))\n",
      "#model.add(Dropout(0.9))\n",
      "model.add(Dense(32, 10, init='uniform'))\n",
      "model.add(Activation('softmax'))\n",
      "\n",
      "sgd = SGD(lr=0.1, decay=1e-6, momentum=0.5, nesterov=True)\n",
      "model.compile(loss='categorical_crossentropy', optimizer=sgd)\n",
      "\n",
      "model.fit(train_set_x, train_set_y, nb_epoch=125, batch_size=600, verbose=False)\n",
      "\n",
      "print test_set_error(model)"
     ],
     "language": "python",
     "metadata": {},
     "outputs": [
      {
       "output_type": "stream",
       "stream": "stdout",
       "text": [
        "3.43\n"
       ]
      }
     ],
     "prompt_number": 24
    },
    {
     "cell_type": "heading",
     "level": 1,
     "metadata": {},
     "source": [
      "Hidden Layers"
     ]
    },
    {
     "cell_type": "heading",
     "level": 2,
     "metadata": {},
     "source": [
      "One Less"
     ]
    },
    {
     "cell_type": "code",
     "collapsed": false,
     "input": [
      "from keras.models import Sequential\n",
      "from keras.layers.core import Dense, Dropout\n",
      "from keras.layers.advanced_activations import PReLU\n",
      "from keras.optimizers import SGD\n",
      "\n",
      "model = Sequential()\n",
      "model.add(Dense(784, 64, init='uniform'))\n",
      "model.add(PReLU(input_shape=(64,)))\n",
      "#model.add(Dropout(0.1))\n",
      "#model.add(Dense(64, 64, init='uniform'))\n",
      "#model.add(PReLU(input_shape=(64,)))\n",
      "#model.add(Dropout(0.9))\n",
      "model.add(Dense(64, 10, init='uniform'))\n",
      "model.add(Activation('softmax'))\n",
      "\n",
      "sgd = SGD(lr=0.1, decay=1e-6, momentum=0.5, nesterov=True)\n",
      "model.compile(loss='categorical_crossentropy', optimizer=sgd)\n",
      "\n",
      "model.fit(train_set_x, train_set_y, nb_epoch=125, batch_size=600, verbose=False)\n",
      "\n",
      "print test_set_error(model)"
     ],
     "language": "python",
     "metadata": {},
     "outputs": [
      {
       "output_type": "stream",
       "stream": "stdout",
       "text": [
        "2.61\n"
       ]
      }
     ],
     "prompt_number": 25
    },
    {
     "cell_type": "heading",
     "level": 2,
     "metadata": {},
     "source": [
      "One More"
     ]
    },
    {
     "cell_type": "code",
     "collapsed": false,
     "input": [
      "from keras.models import Sequential\n",
      "from keras.layers.core import Dense, Dropout\n",
      "from keras.layers.advanced_activations import PReLU\n",
      "from keras.optimizers import SGD\n",
      "\n",
      "model = Sequential()\n",
      "model.add(Dense(784, 64, init='uniform'))\n",
      "model.add(PReLU(input_shape=(64,)))\n",
      "#model.add(Dropout(0.1))\n",
      "model.add(Dense(64, 64, init='uniform'))\n",
      "model.add(PReLU(input_shape=(64,)))\n",
      "#model.add(Dropout(0.9))\n",
      "model.add(Dense(64, 64, init='uniform'))\n",
      "model.add(PReLU(input_shape=(64,)))\n",
      "#model.add(Dropout(0.9))\n",
      "model.add(Dense(64, 10, init='uniform'))\n",
      "model.add(Activation('softmax'))\n",
      "\n",
      "sgd = SGD(lr=0.1, decay=1e-6, momentum=0.5, nesterov=True)\n",
      "model.compile(loss='categorical_crossentropy', optimizer=sgd)\n",
      "\n",
      "model.fit(train_set_x, train_set_y, nb_epoch=125, batch_size=600, verbose=False)\n",
      "\n",
      "print test_set_error(model)"
     ],
     "language": "python",
     "metadata": {},
     "outputs": [
      {
       "output_type": "stream",
       "stream": "stdout",
       "text": [
        "3.02\n"
       ]
      }
     ],
     "prompt_number": 26
    },
    {
     "cell_type": "heading",
     "level": 1,
     "metadata": {},
     "source": [
      "Hyperparameters"
     ]
    },
    {
     "cell_type": "heading",
     "level": 2,
     "metadata": {},
     "source": [
      "Learning Rate"
     ]
    },
    {
     "cell_type": "heading",
     "level": 3,
     "metadata": {},
     "source": [
      "Smaller"
     ]
    },
    {
     "cell_type": "code",
     "collapsed": false,
     "input": [
      "from keras.models import Sequential\n",
      "from keras.layers.core import Dense, Dropout\n",
      "from keras.layers.advanced_activations import PReLU\n",
      "from keras.optimizers import SGD\n",
      "\n",
      "model = Sequential()\n",
      "model.add(Dense(784, 64, init='uniform'))\n",
      "model.add(PReLU(input_shape=(64,)))\n",
      "#model.add(Dropout(0.1))\n",
      "model.add(Dense(64, 64, init='uniform'))\n",
      "model.add(PReLU(input_shape=(64,)))\n",
      "#model.add(Dropout(0.9))\n",
      "model.add(Dense(64, 10, init='uniform'))\n",
      "model.add(Activation('softmax'))\n",
      "\n",
      "sgd = SGD(lr=0.05, decay=1e-6, momentum=0.5, nesterov=True)\n",
      "model.compile(loss='categorical_crossentropy', optimizer=sgd)\n",
      "\n",
      "model.fit(train_set_x, train_set_y, nb_epoch=125, batch_size=600, verbose=False)\n",
      "\n",
      "print test_set_error(model)"
     ],
     "language": "python",
     "metadata": {},
     "outputs": [
      {
       "output_type": "stream",
       "stream": "stdout",
       "text": [
        "2.58\n"
       ]
      }
     ],
     "prompt_number": 27
    },
    {
     "cell_type": "heading",
     "level": 3,
     "metadata": {},
     "source": [
      "Larger"
     ]
    },
    {
     "cell_type": "code",
     "collapsed": false,
     "input": [
      "from keras.models import Sequential\n",
      "from keras.layers.core import Dense, Dropout\n",
      "from keras.layers.advanced_activations import PReLU\n",
      "from keras.optimizers import SGD\n",
      "\n",
      "model = Sequential()\n",
      "model.add(Dense(784, 64, init='uniform'))\n",
      "model.add(PReLU(input_shape=(64,)))\n",
      "#model.add(Dropout(0.1))\n",
      "model.add(Dense(64, 64, init='uniform'))\n",
      "model.add(PReLU(input_shape=(64,)))\n",
      "#model.add(Dropout(0.9))\n",
      "model.add(Dense(64, 10, init='uniform'))\n",
      "model.add(Activation('softmax'))\n",
      "\n",
      "sgd = SGD(lr=0.2, decay=1e-6, momentum=0.5, nesterov=True)\n",
      "model.compile(loss='categorical_crossentropy', optimizer=sgd)\n",
      "\n",
      "model.fit(train_set_x, train_set_y, nb_epoch=125, batch_size=600, verbose=False)\n",
      "\n",
      "print test_set_error(model)"
     ],
     "language": "python",
     "metadata": {},
     "outputs": [
      {
       "output_type": "stream",
       "stream": "stdout",
       "text": [
        "2.56\n"
       ]
      }
     ],
     "prompt_number": 28
    },
    {
     "cell_type": "heading",
     "level": 2,
     "metadata": {},
     "source": [
      "Weight Decay"
     ]
    },
    {
     "cell_type": "heading",
     "level": 3,
     "metadata": {},
     "source": [
      "Smaller"
     ]
    },
    {
     "cell_type": "code",
     "collapsed": false,
     "input": [
      "from keras.models import Sequential\n",
      "from keras.layers.core import Dense, Dropout\n",
      "from keras.layers.advanced_activations import PReLU\n",
      "from keras.optimizers import SGD\n",
      "\n",
      "model = Sequential()\n",
      "model.add(Dense(784, 64, init='uniform'))\n",
      "model.add(PReLU(input_shape=(64,)))\n",
      "#model.add(Dropout(0.1))\n",
      "model.add(Dense(64, 64, init='uniform'))\n",
      "model.add(PReLU(input_shape=(64,)))\n",
      "#model.add(Dropout(0.9))\n",
      "model.add(Dense(64, 10, init='uniform'))\n",
      "model.add(Activation('softmax'))\n",
      "\n",
      "sgd = SGD(lr=0.1, decay=1e-7, momentum=0.5, nesterov=True)\n",
      "model.compile(loss='categorical_crossentropy', optimizer=sgd)\n",
      "\n",
      "model.fit(train_set_x, train_set_y, nb_epoch=125, batch_size=600, verbose=False)\n",
      "\n",
      "print test_set_error(model)"
     ],
     "language": "python",
     "metadata": {},
     "outputs": [
      {
       "output_type": "stream",
       "stream": "stdout",
       "text": [
        "2.92\n"
       ]
      }
     ],
     "prompt_number": 29
    },
    {
     "cell_type": "heading",
     "level": 3,
     "metadata": {},
     "source": [
      "Larger"
     ]
    },
    {
     "cell_type": "code",
     "collapsed": false,
     "input": [
      "from keras.models import Sequential\n",
      "from keras.layers.core import Dense, Dropout\n",
      "from keras.layers.advanced_activations import PReLU\n",
      "from keras.optimizers import SGD\n",
      "\n",
      "model = Sequential()\n",
      "model.add(Dense(784, 64, init='uniform'))\n",
      "model.add(PReLU(input_shape=(64,)))\n",
      "#model.add(Dropout(0.1))\n",
      "model.add(Dense(64, 64, init='uniform'))\n",
      "model.add(PReLU(input_shape=(64,)))\n",
      "#model.add(Dropout(0.9))\n",
      "model.add(Dense(64, 10, init='uniform'))\n",
      "model.add(Activation('softmax'))\n",
      "\n",
      "sgd = SGD(lr=0.1, decay=1e-5, momentum=0.5, nesterov=True)\n",
      "model.compile(loss='categorical_crossentropy', optimizer=sgd)\n",
      "\n",
      "model.fit(train_set_x, train_set_y, nb_epoch=125, batch_size=600, verbose=False)\n",
      "\n",
      "print test_set_error(model)"
     ],
     "language": "python",
     "metadata": {},
     "outputs": [
      {
       "output_type": "stream",
       "stream": "stdout",
       "text": [
        "90.42\n"
       ]
      }
     ],
     "prompt_number": 30
    },
    {
     "cell_type": "heading",
     "level": 2,
     "metadata": {},
     "source": [
      "Momentum"
     ]
    },
    {
     "cell_type": "heading",
     "level": 3,
     "metadata": {},
     "source": [
      "Smaller"
     ]
    },
    {
     "cell_type": "code",
     "collapsed": false,
     "input": [
      "from keras.models import Sequential\n",
      "from keras.layers.core import Dense, Dropout\n",
      "from keras.layers.advanced_activations import PReLU\n",
      "from keras.optimizers import SGD\n",
      "\n",
      "model = Sequential()\n",
      "model.add(Dense(784, 64, init='uniform'))\n",
      "model.add(PReLU(input_shape=(64,)))\n",
      "#model.add(Dropout(0.1))\n",
      "model.add(Dense(64, 64, init='uniform'))\n",
      "model.add(PReLU(input_shape=(64,)))\n",
      "#model.add(Dropout(0.9))\n",
      "model.add(Dense(64, 10, init='uniform'))\n",
      "model.add(Activation('softmax'))\n",
      "\n",
      "sgd = SGD(lr=0.1, decay=1e-6, momentum=0.25, nesterov=True)\n",
      "model.compile(loss='categorical_crossentropy', optimizer=sgd)\n",
      "\n",
      "model.fit(train_set_x, train_set_y, nb_epoch=125, batch_size=600, verbose=False)\n",
      "\n",
      "print test_set_error(model)"
     ],
     "language": "python",
     "metadata": {},
     "outputs": [
      {
       "output_type": "stream",
       "stream": "stdout",
       "text": [
        "2.74\n"
       ]
      }
     ],
     "prompt_number": 31
    },
    {
     "cell_type": "heading",
     "level": 3,
     "metadata": {},
     "source": [
      "Larger"
     ]
    },
    {
     "cell_type": "code",
     "collapsed": false,
     "input": [
      "from keras.models import Sequential\n",
      "from keras.layers.core import Dense, Dropout\n",
      "from keras.layers.advanced_activations import PReLU\n",
      "from keras.optimizers import SGD\n",
      "\n",
      "model = Sequential()\n",
      "model.add(Dense(784, 64, init='uniform'))\n",
      "model.add(PReLU(input_shape=(64,)))\n",
      "#model.add(Dropout(0.1))\n",
      "model.add(Dense(64, 64, init='uniform'))\n",
      "model.add(PReLU(input_shape=(64,)))\n",
      "#model.add(Dropout(0.9))\n",
      "model.add(Dense(64, 10, init='uniform'))\n",
      "model.add(Activation('softmax'))\n",
      "\n",
      "sgd = SGD(lr=0.1, decay=1e-6, momentum=0.9, nesterov=True)\n",
      "model.compile(loss='categorical_crossentropy', optimizer=sgd)\n",
      "\n",
      "model.fit(train_set_x, train_set_y, nb_epoch=125, batch_size=600, verbose=False)\n",
      "\n",
      "print test_set_error(model)"
     ],
     "language": "python",
     "metadata": {},
     "outputs": [
      {
       "output_type": "stream",
       "stream": "stdout",
       "text": [
        "2.47\n"
       ]
      }
     ],
     "prompt_number": 32
    },
    {
     "cell_type": "heading",
     "level": 1,
     "metadata": {},
     "source": [
      "Convolutional NN"
     ]
    },
    {
     "cell_type": "heading",
     "level": 2,
     "metadata": {},
     "source": [
      "Baseline"
     ]
    },
    {
     "cell_type": "code",
     "collapsed": false,
     "input": [
      "# Load the dataset\n",
      "f = gzip.open('mnist.pkl.gz', 'rb')\n",
      "train_set, valid_set, test_set = cPickle.load(f)\n",
      "f.close()\n",
      "\n",
      "train_set_x = train_set[0].reshape((50000, 1, 28, 28))\n",
      "train_set_y = np_utils.to_categorical(train_set[1], 10)\n",
      "\n",
      "test_set_x = test_set[0].reshape((10000, 1, 28, 28))\n",
      "test_set_y = np_utils.to_categorical(test_set[1], 10)"
     ],
     "language": "python",
     "metadata": {},
     "outputs": [],
     "prompt_number": 8
    },
    {
     "cell_type": "code",
     "collapsed": false,
     "input": [
      "print train_set_x.shape\n",
      "print test_set_x.shape"
     ],
     "language": "python",
     "metadata": {},
     "outputs": [
      {
       "output_type": "stream",
       "stream": "stdout",
       "text": [
        "(50000, 1, 28, 28)\n",
        "(10000, 1, 28, 28)\n"
       ]
      }
     ],
     "prompt_number": 9
    },
    {
     "cell_type": "code",
     "collapsed": false,
     "input": [
      "from keras.layers.convolutional import Convolution2D, MaxPooling2D\n",
      "from keras.layers.core import Dense, Dropout, Flatten, Activation\n",
      "from keras.optimizers import SGD\n",
      "from keras.models import Sequential\n",
      "\n",
      "model = Sequential()\n",
      "model.add(Convolution2D(28, 1, 3, 3, border_mode='full')) \n",
      "model.add(Activation('relu'))\n",
      "model.add(Convolution2D(28, 28, 3, 3))\n",
      "model.add(Activation('relu'))\n",
      "model.add(MaxPooling2D(poolsize=(2, 2)))\n",
      "model.add(Dropout(0.25))\n",
      "\n",
      "model.add(Convolution2D(56, 28, 3, 3, border_mode='full')) \n",
      "model.add(Activation('relu'))\n",
      "model.add(Convolution2D(56, 56, 3, 3)) \n",
      "model.add(Activation('relu'))\n",
      "model.add(MaxPooling2D(poolsize=(2, 2)))\n",
      "model.add(Dropout(0.25))\n",
      "\n",
      "model.add(Flatten(56*7*7))\n",
      "model.add(Dense(56*7*7, 56, init='normal'))\n",
      "model.add(Activation('relu'))\n",
      "model.add(Dropout(0.5))\n",
      "\n",
      "model.add(Dense(56, 10, init='normal'))\n",
      "model.add(Activation('softmax'))\n",
      "\n",
      "sgd = SGD(lr=0.01, decay=1e-6, momentum=0.9, nesterov=True)\n",
      "model.compile(loss='categorical_crossentropy', optimizer=sgd)\n",
      "\n",
      "\n",
      "\n"
     ],
     "language": "python",
     "metadata": {},
     "outputs": [],
     "prompt_number": 10
    },
    {
     "cell_type": "code",
     "collapsed": false,
     "input": [
      "model.fit(train_set_x[:640*10], train_set_y[:640*10], nb_epoch=1, batch_size=64, verbose=True)\n"
     ],
     "language": "python",
     "metadata": {},
     "outputs": [
      {
       "output_type": "stream",
       "stream": "stdout",
       "text": [
        "Epoch 0\n",
        "\b"
       ]
      },
      {
       "output_type": "stream",
       "stream": "stdout",
       "text": [
        "64/6400 [..............................] - ETA: 267s - loss: 2.3055"
       ]
      },
      {
       "output_type": "stream",
       "stream": "stdout",
       "text": [
        "\b\b\b\b\b\b\b\b\b\b\b\b\b\b\b\b\b\b\b\b\b\b\b\b\b\b\b\b\b\b\b\b\b\b\b\b\b\b\b\b\b\b\b\b\b\b\b\b\b\b\b\b\b\b\b\b\b\b\b\b\b\b\b\b\b\b\b\b128/6400 [..............................] - ETA: 296s - loss: 2.3027"
       ]
      },
      {
       "output_type": "stream",
       "stream": "stdout",
       "text": [
        "\b\b\b\b\b\b\b\b\b\b\b\b\b\b\b\b\b\b\b\b\b\b\b\b\b\b\b\b\b\b\b\b\b\b\b\b\b\b\b\b\b\b\b\b\b\b\b\b\b\b\b\b\b\b\b\b\b\b\b\b\b\b\b\b\b\b\b\b\b192/6400 [..............................] - ETA: 306s - loss: 2.3031"
       ]
      },
      {
       "output_type": "stream",
       "stream": "stdout",
       "text": [
        "\b\b\b\b\b\b\b\b\b\b\b\b\b\b\b\b\b\b\b\b\b\b\b\b\b\b\b\b\b\b\b\b\b\b\b\b\b\b\b\b\b\b\b\b\b\b\b\b\b\b\b\b\b\b\b\b\b\b\b\b\b\b\b\b\b\b\b\b\b256/6400 [>.............................] - ETA: 309s - loss: 2.3029"
       ]
      },
      {
       "output_type": "stream",
       "stream": "stdout",
       "text": [
        "\b\b\b\b\b\b\b\b\b\b\b\b\b\b\b\b\b\b\b\b\b\b\b\b\b\b\b\b\b\b\b\b\b\b\b\b\b\b\b\b\b\b\b\b\b\b\b\b\b\b\b\b\b\b\b\b\b\b\b\b\b\b\b\b\b\b\b\b\b320/6400 [>.............................] - ETA: 310s - loss: 2.3036"
       ]
      },
      {
       "output_type": "stream",
       "stream": "stdout",
       "text": [
        "\b\b\b\b\b\b\b\b\b\b\b\b\b\b\b\b\b\b\b\b\b\b\b\b\b\b\b\b\b\b\b\b\b\b\b\b\b\b\b\b\b\b\b\b\b\b\b\b\b\b\b\b\b\b\b\b\b\b\b\b\b\b\b\b\b\b\b\b\b384/6400 [>.............................] - ETA: 309s - loss: 2.3032"
       ]
      },
      {
       "output_type": "stream",
       "stream": "stdout",
       "text": [
        "\b\b\b\b\b\b\b\b\b\b\b\b\b\b\b\b\b\b\b\b\b\b\b\b\b\b\b\b\b\b\b\b\b\b\b\b\b\b\b\b\b\b\b\b\b\b\b\b\b\b\b\b\b\b\b\b\b\b\b\b\b\b\b\b\b\b\b\b\b448/6400 [=>............................] - ETA: 308s - loss: 2.3024"
       ]
      },
      {
       "output_type": "stream",
       "stream": "stdout",
       "text": [
        "\b\b\b\b\b\b\b\b\b\b\b\b\b\b\b\b\b\b\b\b\b\b\b\b\b\b\b\b\b\b\b\b\b\b\b\b\b\b\b\b\b\b\b\b\b\b\b\b\b\b\b\b\b\b\b\b\b\b\b\b\b\b\b\b\b\b\b\b\b512/6400 [=>............................] - ETA: 306s - loss: 2.3021"
       ]
      },
      {
       "output_type": "stream",
       "stream": "stdout",
       "text": [
        "\b\b\b\b\b\b\b\b\b\b\b\b\b\b\b\b\b\b\b\b\b\b\b\b\b\b\b\b\b\b\b\b\b\b\b\b\b\b\b\b\b\b\b\b\b\b\b\b\b\b\b\b\b\b\b\b\b\b\b\b\b\b\b\b\b\b\b\b\b576/6400 [=>............................] - ETA: 304s - loss: 2.3020"
       ]
      },
      {
       "output_type": "stream",
       "stream": "stdout",
       "text": [
        "\b\b\b\b\b\b\b\b\b\b\b\b\b\b\b\b\b\b\b\b\b\b\b\b\b\b\b\b\b\b\b\b\b\b\b\b\b\b\b\b\b\b\b\b\b\b\b\b\b\b\b\b\b\b\b\b\b\b\b\b\b\b\b\b\b\b\b\b\b640/6400 [==>...........................] - ETA: 301s - loss: 2.3020"
       ]
      },
      {
       "output_type": "stream",
       "stream": "stdout",
       "text": [
        "\b\b\b\b\b\b\b\b\b\b\b\b\b\b\b\b\b\b\b\b\b\b\b\b\b\b\b\b\b\b\b\b\b\b\b\b\b\b\b\b\b\b\b\b\b\b\b\b\b\b\b\b\b\b\b\b\b\b\b\b\b\b\b\b\b\b\b\b\b704/6400 [==>...........................] - ETA: 299s - loss: 2.3018"
       ]
      },
      {
       "output_type": "stream",
       "stream": "stdout",
       "text": [
        "\b\b\b\b\b\b\b\b\b\b\b\b\b\b\b\b\b\b\b\b\b\b\b\b\b\b\b\b\b\b\b\b\b\b\b\b\b\b\b\b\b\b\b\b\b\b\b\b\b\b\b\b\b\b\b\b\b\b\b\b\b\b\b\b\b\b\b\b\b768/6400 [==>...........................] - ETA: 296s - loss: 2.3014"
       ]
      },
      {
       "output_type": "stream",
       "stream": "stdout",
       "text": [
        "\b\b\b\b\b\b\b\b\b\b\b\b\b\b\b\b\b\b\b\b\b\b\b\b\b\b\b\b\b\b\b\b\b\b\b\b\b\b\b\b\b\b\b\b\b\b\b\b\b\b\b\b\b\b\b\b\b\b\b\b\b\b\b\b\b\b\b\b\b832/6400 [==>...........................] - ETA: 293s - loss: 2.3012"
       ]
      },
      {
       "output_type": "stream",
       "stream": "stdout",
       "text": [
        "\b\b\b\b\b\b\b\b\b\b\b\b\b\b\b\b\b\b\b\b\b\b\b\b\b\b\b\b\b\b\b\b\b\b\b\b\b\b\b\b\b\b\b\b\b\b\b\b\b\b\b\b\b\b\b\b\b\b\b\b\b\b\b\b\b\b\b\b\b896/6400 [===>..........................] - ETA: 290s - loss: 2.3010"
       ]
      },
      {
       "output_type": "stream",
       "stream": "stdout",
       "text": [
        "\b\b\b\b\b\b\b\b\b\b\b\b\b\b\b\b\b\b\b\b\b\b\b\b\b\b\b\b\b\b\b\b\b\b\b\b\b\b\b\b\b\b\b\b\b\b\b\b\b\b\b\b\b\b\b\b\b\b\b\b\b\b\b\b\b\b\b\b\b960/6400 [===>..........................] - ETA: 287s - loss: 2.3010"
       ]
      },
      {
       "output_type": "stream",
       "stream": "stdout",
       "text": [
        "\b\b\b\b\b\b\b\b\b\b\b\b\b\b\b\b\b\b\b\b\b\b\b\b\b\b\b\b\b\b\b\b\b\b\b\b\b\b\b\b\b\b\b\b\b\b\b\b\b\b\b\b\b\b\b\b\b\b\b\b\b\b\b\b\b\b\b\b\b1024/6400 [===>..........................] - ETA: 284s - loss: 2.3008"
       ]
      },
      {
       "output_type": "stream",
       "stream": "stdout",
       "text": [
        "\b\b\b\b\b\b\b\b\b\b\b\b\b\b\b\b\b\b\b\b\b\b\b\b\b\b\b\b\b\b\b\b\b\b\b\b\b\b\b\b\b\b\b\b\b\b\b\b\b\b\b\b\b\b\b\b\b\b\b\b\b\b\b\b\b\b\b\b\b\b1088/6400 [====>.........................] - ETA: 280s - loss: 2.3011"
       ]
      },
      {
       "output_type": "stream",
       "stream": "stdout",
       "text": [
        "\b\b\b\b\b\b\b\b\b\b\b\b\b\b\b\b\b\b\b\b\b\b\b\b\b\b\b\b\b\b\b\b\b\b\b\b\b\b\b\b\b\b\b\b\b\b\b\b\b\b\b\b\b\b\b\b\b\b\b\b\b\b\b\b\b\b\b\b\b\b1152/6400 [====>.........................] - ETA: 277s - loss: 2.3013"
       ]
      },
      {
       "output_type": "stream",
       "stream": "stdout",
       "text": [
        "\b\b\b\b\b\b\b\b\b\b\b\b\b\b\b\b\b\b\b\b\b\b\b\b\b\b\b\b\b\b\b\b\b\b\b\b\b\b\b\b\b\b\b\b\b\b\b\b\b\b\b\b\b\b\b\b\b\b\b\b\b\b\b\b\b\b\b\b\b\b1216/6400 [====>.........................] - ETA: 274s - loss: 2.3014"
       ]
      },
      {
       "output_type": "stream",
       "stream": "stdout",
       "text": [
        "\b\b\b\b\b\b\b\b\b\b\b\b\b\b\b\b\b\b\b\b\b\b\b\b\b\b\b\b\b\b\b\b\b\b\b\b\b\b\b\b\b\b\b\b\b\b\b\b\b\b\b\b\b\b\b\b\b\b\b\b\b\b\b\b\b\b\b\b\b\b1280/6400 [=====>........................] - ETA: 271s - loss: 2.3014"
       ]
      },
      {
       "output_type": "stream",
       "stream": "stdout",
       "text": [
        "\b\b\b\b\b\b\b\b\b\b\b\b\b\b\b\b\b\b\b\b\b\b\b\b\b\b\b\b\b\b\b\b\b\b\b\b\b\b\b\b\b\b\b\b\b\b\b\b\b\b\b\b\b\b\b\b\b\b\b\b\b\b\b\b\b\b\b\b\b\b1344/6400 [=====>........................] - ETA: 268s - loss: 2.3015"
       ]
      },
      {
       "output_type": "stream",
       "stream": "stdout",
       "text": [
        "\b\b\b\b\b\b\b\b\b\b\b\b\b\b\b\b\b\b\b\b\b\b\b\b\b\b\b\b\b\b\b\b\b\b\b\b\b\b\b\b\b\b\b\b\b\b\b\b\b\b\b\b\b\b\b\b\b\b\b\b\b\b\b\b\b\b\b\b\b\b1408/6400 [=====>........................] - ETA: 264s - loss: 2.3016"
       ]
      },
      {
       "output_type": "stream",
       "stream": "stdout",
       "text": [
        "\b\b\b\b\b\b\b\b\b\b\b\b\b\b\b\b\b\b\b\b\b\b\b\b\b\b\b\b\b\b\b\b\b\b\b\b\b\b\b\b\b\b\b\b\b\b\b\b\b\b\b\b\b\b\b\b\b\b\b\b\b\b\b\b\b\b\b\b\b\b1472/6400 [=====>........................] - ETA: 261s - loss: 2.3014"
       ]
      },
      {
       "output_type": "stream",
       "stream": "stdout",
       "text": [
        "\b\b\b\b\b\b\b\b\b\b\b\b\b\b\b\b\b\b\b\b\b\b\b\b\b\b\b\b\b\b\b\b\b\b\b\b\b\b\b\b\b\b\b\b\b\b\b\b\b\b\b\b\b\b\b\b\b\b\b\b\b\b\b\b\b\b\b\b\b\b1536/6400 [======>.......................] - ETA: 258s - loss: 2.3014"
       ]
      },
      {
       "output_type": "stream",
       "stream": "stdout",
       "text": [
        "\b\b\b\b\b\b\b\b\b\b\b\b\b\b\b\b\b\b\b\b\b\b\b\b\b\b\b\b\b\b\b\b\b\b\b\b\b\b\b\b\b\b\b\b\b\b\b\b\b\b\b\b\b\b\b\b\b\b\b\b\b\b\b\b\b\b\b\b\b\b1600/6400 [======>.......................] - ETA: 255s - loss: 2.3015"
       ]
      },
      {
       "output_type": "stream",
       "stream": "stdout",
       "text": [
        "\b\b\b\b\b\b\b\b\b\b\b\b\b\b\b\b\b\b\b\b\b\b\b\b\b\b\b\b\b\b\b\b\b\b\b\b\b\b\b\b\b\b\b\b\b\b\b\b\b\b\b\b\b\b\b\b\b\b\b\b\b\b\b\b\b\b\b\b\b\b1664/6400 [======>.......................] - ETA: 251s - loss: 2.3013"
       ]
      },
      {
       "output_type": "stream",
       "stream": "stdout",
       "text": [
        "\b\b\b\b\b\b\b\b\b\b\b\b\b\b\b\b\b\b\b\b\b\b\b\b\b\b\b\b\b\b\b\b\b\b\b\b\b\b\b\b\b\b\b\b\b\b\b\b\b\b\b\b\b\b\b\b\b\b\b\b\b\b\b\b\b\b\b\b\b\b1728/6400 [=======>......................] - ETA: 248s - loss: 2.3013"
       ]
      },
      {
       "output_type": "stream",
       "stream": "stdout",
       "text": [
        "\b\b\b\b\b\b\b\b\b\b\b\b\b\b\b\b\b\b\b\b\b\b\b\b\b\b\b\b\b\b\b\b\b\b\b\b\b\b\b\b\b\b\b\b\b\b\b\b\b\b\b\b\b\b\b\b\b\b\b\b\b\b\b\b\b\b\b\b\b\b1792/6400 [=======>......................] - ETA: 245s - loss: 2.3015"
       ]
      },
      {
       "output_type": "stream",
       "stream": "stdout",
       "text": [
        "\b\b\b\b\b\b\b\b\b\b\b\b\b\b\b\b\b\b\b\b\b\b\b\b\b\b\b\b\b\b\b\b\b\b\b\b\b\b\b\b\b\b\b\b\b\b\b\b\b\b\b\b\b\b\b\b\b\b\b\b\b\b\b\b\b\b\b\b\b\b1856/6400 [=======>......................] - ETA: 241s - loss: 2.3014"
       ]
      },
      {
       "output_type": "stream",
       "stream": "stdout",
       "text": [
        "\b\b\b\b\b\b\b\b\b\b\b\b\b\b\b\b\b\b\b\b\b\b\b\b\b\b\b\b\b\b\b\b\b\b\b\b\b\b\b\b\b\b\b\b\b\b\b\b\b\b\b\b\b\b\b\b\b\b\b\b\b\b\b\b\b\b\b\b\b\b1920/6400 [========>.....................] - ETA: 238s - loss: 2.3014"
       ]
      },
      {
       "output_type": "stream",
       "stream": "stdout",
       "text": [
        "\b\b\b\b\b\b\b\b\b\b\b\b\b\b\b\b\b\b\b\b\b\b\b\b\b\b\b\b\b\b\b\b\b\b\b\b\b\b\b\b\b\b\b\b\b\b\b\b\b\b\b\b\b\b\b\b\b\b\b\b\b\b\b\b\b\b\b\b\b\b1984/6400 [========>.....................] - ETA: 235s - loss: 2.3016"
       ]
      },
      {
       "output_type": "stream",
       "stream": "stdout",
       "text": [
        "\b\b\b\b\b\b\b\b\b\b\b\b\b\b\b\b\b\b\b\b\b\b\b\b\b\b\b\b\b\b\b\b\b\b\b\b\b\b\b\b\b\b\b\b\b\b\b\b\b\b\b\b\b\b\b\b\b\b\b\b\b\b\b\b\b\b\b\b\b\b2048/6400 [========>.....................] - ETA: 231s - loss: 2.3018"
       ]
      },
      {
       "output_type": "stream",
       "stream": "stdout",
       "text": [
        "\b\b\b\b\b\b\b\b\b\b\b\b\b\b\b\b\b\b\b\b\b\b\b\b\b\b\b\b\b\b\b\b\b\b\b\b\b\b\b\b\b\b\b\b\b\b\b\b\b\b\b\b\b\b\b\b\b\b\b\b\b\b\b\b\b\b\b\b\b\b2112/6400 [========>.....................] - ETA: 228s - loss: 2.3018"
       ]
      },
      {
       "output_type": "stream",
       "stream": "stdout",
       "text": [
        "\b\b\b\b\b\b\b\b\b\b\b\b\b\b\b\b\b\b\b\b\b\b\b\b\b\b\b\b\b\b\b\b\b\b\b\b\b\b\b\b\b\b\b\b\b\b\b\b\b\b\b\b\b\b\b\b\b\b\b\b\b\b\b\b\b\b\b\b\b\b2176/6400 [=========>....................] - ETA: 225s - loss: 2.3019"
       ]
      },
      {
       "output_type": "stream",
       "stream": "stdout",
       "text": [
        "\b\b\b\b\b\b\b\b\b\b\b\b\b\b\b\b\b\b\b\b\b\b\b\b\b\b\b\b\b\b\b\b\b\b\b\b\b\b\b\b\b\b\b\b\b\b\b\b\b\b\b\b\b\b\b\b\b\b\b\b\b\b\b\b\b\b\b\b\b\b2240/6400 [=========>....................] - ETA: 221s - loss: 2.3017"
       ]
      },
      {
       "output_type": "stream",
       "stream": "stdout",
       "text": [
        "\b\b\b\b\b\b\b\b\b\b\b\b\b\b\b\b\b\b\b\b\b\b\b\b\b\b\b\b\b\b\b\b\b\b\b\b\b\b\b\b\b\b\b\b\b\b\b\b\b\b\b\b\b\b\b\b\b\b\b\b\b\b\b\b\b\b\b\b\b\b2304/6400 [=========>....................] - ETA: 218s - loss: 2.3017"
       ]
      },
      {
       "output_type": "stream",
       "stream": "stdout",
       "text": [
        "\b\b\b\b\b\b\b\b\b\b\b\b\b\b\b\b\b\b\b\b\b\b\b\b\b\b\b\b\b\b\b\b\b\b\b\b\b\b\b\b\b\b\b\b\b\b\b\b\b\b\b\b\b\b\b\b\b\b\b\b\b\b\b\b\b\b\b\b\b\b2368/6400 [==========>...................] - ETA: 214s - loss: 2.3018"
       ]
      },
      {
       "output_type": "stream",
       "stream": "stdout",
       "text": [
        "\b\b\b\b\b\b\b\b\b\b\b\b\b\b\b\b\b\b\b\b\b\b\b\b\b\b\b\b\b\b\b\b\b\b\b\b\b\b\b\b\b\b\b\b\b\b\b\b\b\b\b\b\b\b\b\b\b\b\b\b\b\b\b\b\b\b\b\b\b\b2432/6400 [==========>...................] - ETA: 211s - loss: 2.3019"
       ]
      },
      {
       "output_type": "stream",
       "stream": "stdout",
       "text": [
        "\b\b\b\b\b\b\b\b\b\b\b\b\b\b\b\b\b\b\b\b\b\b\b\b\b\b\b\b\b\b\b\b\b\b\b\b\b\b\b\b\b\b\b\b\b\b\b\b\b\b\b\b\b\b\b\b\b\b\b\b\b\b\b\b\b\b\b\b\b\b2496/6400 [==========>...................] - ETA: 208s - loss: 2.3019"
       ]
      },
      {
       "output_type": "stream",
       "stream": "stdout",
       "text": [
        "\b\b\b\b\b\b\b\b\b\b\b\b\b\b\b\b\b\b\b\b\b\b\b\b\b\b\b\b\b\b\b\b\b\b\b\b\b\b\b\b\b\b\b\b\b\b\b\b\b\b\b\b\b\b\b\b\b\b\b\b\b\b\b\b\b\b\b\b\b\b2560/6400 [===========>..................] - ETA: 204s - loss: 2.3019"
       ]
      },
      {
       "output_type": "stream",
       "stream": "stdout",
       "text": [
        "\b\b\b\b\b\b\b\b\b\b\b\b\b\b\b\b\b\b\b\b\b\b\b\b\b\b\b\b\b\b\b\b\b\b\b\b\b\b\b\b\b\b\b\b\b\b\b\b\b\b\b\b\b\b\b\b\b\b\b\b\b\b\b\b\b\b\b\b\b\b2624/6400 [===========>..................] - ETA: 201s - loss: 2.3019"
       ]
      },
      {
       "output_type": "stream",
       "stream": "stdout",
       "text": [
        "\b\b\b\b\b\b\b\b\b\b\b\b\b\b\b\b\b\b\b\b\b\b\b\b\b\b\b\b\b\b\b\b\b\b\b\b\b\b\b\b\b\b\b\b\b\b\b\b\b\b\b\b\b\b\b\b\b\b\b\b\b\b\b\b\b\b\b\b\b\b2688/6400 [===========>..................] - ETA: 198s - loss: 2.3021"
       ]
      },
      {
       "output_type": "stream",
       "stream": "stdout",
       "text": [
        "\b\b\b\b\b\b\b\b\b\b\b\b\b\b\b\b\b\b\b\b\b\b\b\b\b\b\b\b\b\b\b\b\b\b\b\b\b\b\b\b\b\b\b\b\b\b\b\b\b\b\b\b\b\b\b\b\b\b\b\b\b\b\b\b\b\b\b\b\b\b2752/6400 [===========>..................] - ETA: 194s - loss: 2.3020"
       ]
      },
      {
       "output_type": "stream",
       "stream": "stdout",
       "text": [
        "\b\b\b\b\b\b\b\b\b\b\b\b\b\b\b\b\b\b\b\b\b\b\b\b\b\b\b\b\b\b\b\b\b\b\b\b\b\b\b\b\b\b\b\b\b\b\b\b\b\b\b\b\b\b\b\b\b\b\b\b\b\b\b\b\b\b\b\b\b\b2816/6400 [============>.................] - ETA: 191s - loss: 2.3019"
       ]
      },
      {
       "output_type": "stream",
       "stream": "stdout",
       "text": [
        "\b\b\b\b\b\b\b\b\b\b\b\b\b\b\b\b\b\b\b\b\b\b\b\b\b\b\b\b\b\b\b\b\b\b\b\b\b\b\b\b\b\b\b\b\b\b\b\b\b\b\b\b\b\b\b\b\b\b\b\b\b\b\b\b\b\b\b\b\b\b2880/6400 [============>.................] - ETA: 187s - loss: 2.3018"
       ]
      },
      {
       "output_type": "stream",
       "stream": "stdout",
       "text": [
        "\b\b\b\b\b\b\b\b\b\b\b\b\b\b\b\b\b\b\b\b\b\b\b\b\b\b\b\b\b\b\b\b\b\b\b\b\b\b\b\b\b\b\b\b\b\b\b\b\b\b\b\b\b\b\b\b\b\b\b\b\b\b\b\b\b\b\b\b\b\b2944/6400 [============>.................] - ETA: 184s - loss: 2.3016"
       ]
      },
      {
       "output_type": "stream",
       "stream": "stdout",
       "text": [
        "\b\b\b\b\b\b\b\b\b\b\b\b\b\b\b\b\b\b\b\b\b\b\b\b\b\b\b\b\b\b\b\b\b\b\b\b\b\b\b\b\b\b\b\b\b\b\b\b\b\b\b\b\b\b\b\b\b\b\b\b\b\b\b\b\b\b\b\b\b\b3008/6400 [=============>................] - ETA: 181s - loss: 2.3015"
       ]
      },
      {
       "output_type": "stream",
       "stream": "stdout",
       "text": [
        "\b\b\b\b\b\b\b\b\b\b\b\b\b\b\b\b\b\b\b\b\b\b\b\b\b\b\b\b\b\b\b\b\b\b\b\b\b\b\b\b\b\b\b\b\b\b\b\b\b\b\b\b\b\b\b\b\b\b\b\b\b\b\b\b\b\b\b\b\b\b3072/6400 [=============>................] - ETA: 177s - loss: 2.3015"
       ]
      },
      {
       "output_type": "stream",
       "stream": "stdout",
       "text": [
        "\b\b\b\b\b\b\b\b\b\b\b\b\b\b\b\b\b\b\b\b\b\b\b\b\b\b\b\b\b\b\b\b\b\b\b\b\b\b\b\b\b\b\b\b\b\b\b\b\b\b\b\b\b\b\b\b\b\b\b\b\b\b\b\b\b\b\b\b\b\b3136/6400 [=============>................] - ETA: 174s - loss: 2.3016"
       ]
      },
      {
       "output_type": "stream",
       "stream": "stdout",
       "text": [
        "\b\b\b\b\b\b\b\b\b\b\b\b\b\b\b\b\b\b\b\b\b\b\b\b\b\b\b\b\b\b\b\b\b\b\b\b\b\b\b\b\b\b\b\b\b\b\b\b\b\b\b\b\b\b\b\b\b\b\b\b\b\b\b\b\b\b\b\b\b\b3200/6400 [==============>...............] - ETA: 170s - loss: 2.3014"
       ]
      },
      {
       "output_type": "stream",
       "stream": "stdout",
       "text": [
        "\b\b\b\b\b\b\b\b\b\b\b\b\b\b\b\b\b\b\b\b\b\b\b\b\b\b\b\b\b\b\b\b\b\b\b\b\b\b\b\b\b\b\b\b\b\b\b\b\b\b\b\b\b\b\b\b\b\b\b\b\b\b\b\b\b\b\b\b\b\b3264/6400 [==============>...............] - ETA: 167s - loss: 2.3014"
       ]
      },
      {
       "output_type": "stream",
       "stream": "stdout",
       "text": [
        "\b\b\b\b\b\b\b\b\b\b\b\b\b\b\b\b\b\b\b\b\b\b\b\b\b\b\b\b\b\b\b\b\b\b\b\b\b\b\b\b\b\b\b\b\b\b\b\b\b\b\b\b\b\b\b\b\b\b\b\b\b\b\b\b\b\b\b\b\b\b3328/6400 [==============>...............] - ETA: 164s - loss: 2.3013"
       ]
      },
      {
       "output_type": "stream",
       "stream": "stdout",
       "text": [
        "\b\b\b\b\b\b\b\b\b\b\b\b\b\b\b\b\b\b\b\b\b\b\b\b\b\b\b\b\b\b\b\b\b\b\b\b\b\b\b\b\b\b\b\b\b\b\b\b\b\b\b\b\b\b\b\b\b\b\b\b\b\b\b\b\b\b\b\b\b\b3392/6400 [==============>...............] - ETA: 160s - loss: 2.3014"
       ]
      },
      {
       "output_type": "stream",
       "stream": "stdout",
       "text": [
        "\b\b\b\b\b\b\b\b\b\b\b\b\b\b\b\b\b\b\b\b\b\b\b\b\b\b\b\b\b\b\b\b\b\b\b\b\b\b\b\b\b\b\b\b\b\b\b\b\b\b\b\b\b\b\b\b\b\b\b\b\b\b\b\b\b\b\b\b\b\b3456/6400 [===============>..............] - ETA: 157s - loss: 2.3014"
       ]
      },
      {
       "output_type": "stream",
       "stream": "stdout",
       "text": [
        "\b\b\b\b\b\b\b\b\b\b\b\b\b\b\b\b\b\b\b\b\b\b\b\b\b\b\b\b\b\b\b\b\b\b\b\b\b\b\b\b\b\b\b\b\b\b\b\b\b\b\b\b\b\b\b\b\b\b\b\b\b\b\b\b\b\b\b\b\b\b3520/6400 [===============>..............] - ETA: 153s - loss: 2.3013"
       ]
      },
      {
       "output_type": "stream",
       "stream": "stdout",
       "text": [
        "\b\b\b\b\b\b\b\b\b\b\b\b\b\b\b\b\b\b\b\b\b\b\b\b\b\b\b\b\b\b\b\b\b\b\b\b\b\b\b\b\b\b\b\b\b\b\b\b\b\b\b\b\b\b\b\b\b\b\b\b\b\b\b\b\b\b\b\b\b\b3584/6400 [===============>..............] - ETA: 150s - loss: 2.3014"
       ]
      },
      {
       "output_type": "stream",
       "stream": "stdout",
       "text": [
        "\b\b\b\b\b\b\b\b\b\b\b\b\b\b\b\b\b\b\b\b\b\b\b\b\b\b\b\b\b\b\b\b\b\b\b\b\b\b\b\b\b\b\b\b\b\b\b\b\b\b\b\b\b\b\b\b\b\b\b\b\b\b\b\b\b\b\b\b\b\b3648/6400 [================>.............] - ETA: 147s - loss: 2.3013"
       ]
      },
      {
       "output_type": "stream",
       "stream": "stdout",
       "text": [
        "\b\b\b\b\b\b\b\b\b\b\b\b\b\b\b\b\b\b\b\b\b\b\b\b\b\b\b\b\b\b\b\b\b\b\b\b\b\b\b\b\b\b\b\b\b\b\b\b\b\b\b\b\b\b\b\b\b\b\b\b\b\b\b\b\b\b\b\b\b\b3712/6400 [================>.............] - ETA: 143s - loss: 2.3013"
       ]
      },
      {
       "output_type": "stream",
       "stream": "stdout",
       "text": [
        "\b\b\b\b\b\b\b\b\b\b\b\b\b\b\b\b\b\b\b\b\b\b\b\b\b\b\b\b\b\b\b\b\b\b\b\b\b\b\b\b\b\b\b\b\b\b\b\b\b\b\b\b\b\b\b\b\b\b\b\b\b\b\b\b\b\b\b\b\b\b3776/6400 [================>.............] - ETA: 140s - loss: 2.3012"
       ]
      },
      {
       "output_type": "stream",
       "stream": "stdout",
       "text": [
        "\b\b\b\b\b\b\b\b\b\b\b\b\b\b\b\b\b\b\b\b\b\b\b\b\b\b\b\b\b\b\b\b\b\b\b\b\b\b\b\b\b\b\b\b\b\b\b\b\b\b\b\b\b\b\b\b\b\b\b\b\b\b\b\b\b\b\b\b\b\b3840/6400 [=================>............] - ETA: 136s - loss: 2.3012"
       ]
      },
      {
       "output_type": "stream",
       "stream": "stdout",
       "text": [
        "\b\b\b\b\b\b\b\b\b\b\b\b\b\b\b\b\b\b\b\b\b\b\b\b\b\b\b\b\b\b\b\b\b\b\b\b\b\b\b\b\b\b\b\b\b\b\b\b\b\b\b\b\b\b\b\b\b\b\b\b\b\b\b\b\b\b\b\b\b\b3904/6400 [=================>............] - ETA: 133s - loss: 2.3012"
       ]
      },
      {
       "output_type": "stream",
       "stream": "stdout",
       "text": [
        "\b\b\b\b\b\b\b\b\b\b\b\b\b\b\b\b\b\b\b\b\b\b\b\b\b\b\b\b\b\b\b\b\b\b\b\b\b\b\b\b\b\b\b\b\b\b\b\b\b\b\b\b\b\b\b\b\b\b\b\b\b\b\b\b\b\b\b\b\b\b3968/6400 [=================>............] - ETA: 129s - loss: 2.3011"
       ]
      },
      {
       "output_type": "stream",
       "stream": "stdout",
       "text": [
        "\b\b\b\b\b\b\b\b\b\b\b\b\b\b\b\b\b\b\b\b\b\b\b\b\b\b\b\b\b\b\b\b\b\b\b\b\b\b\b\b\b\b\b\b\b\b\b\b\b\b\b\b\b\b\b\b\b\b\b\b\b\b\b\b\b\b\b\b\b\b4032/6400 [=================>............] - ETA: 126s - loss: 2.3010"
       ]
      },
      {
       "output_type": "stream",
       "stream": "stdout",
       "text": [
        "\b\b\b\b\b\b\b\b\b\b\b\b\b\b\b\b\b\b\b\b\b\b\b\b\b\b\b\b\b\b\b\b\b\b\b\b\b\b\b\b\b\b\b\b\b\b\b\b\b\b\b\b\b\b\b\b\b\b\b\b\b\b\b\b\b\b\b\b\b\b4096/6400 [==================>...........] - ETA: 123s - loss: 2.3010"
       ]
      },
      {
       "output_type": "stream",
       "stream": "stdout",
       "text": [
        "\b\b\b\b\b\b\b\b\b\b\b\b\b\b\b\b\b\b\b\b\b\b\b\b\b\b\b\b\b\b\b\b\b\b\b\b\b\b\b\b\b\b\b\b\b\b\b\b\b\b\b\b\b\b\b\b\b\b\b\b\b\b\b\b\b\b\b\b\b\b4160/6400 [==================>...........] - ETA: 119s - loss: 2.3010"
       ]
      },
      {
       "output_type": "stream",
       "stream": "stdout",
       "text": [
        "\b\b\b\b\b\b\b\b\b\b\b\b\b\b\b\b\b\b\b\b\b\b\b\b\b\b\b\b\b\b\b\b\b\b\b\b\b\b\b\b\b\b\b\b\b\b\b\b\b\b\b\b\b\b\b\b\b\b\b\b\b\b\b\b\b\b\b\b\b\b4224/6400 [==================>...........] - ETA: 116s - loss: 2.3010"
       ]
      },
      {
       "output_type": "stream",
       "stream": "stdout",
       "text": [
        "\b\b\b\b\b\b\b\b\b\b\b\b\b\b\b\b\b\b\b\b\b\b\b\b\b\b\b\b\b\b\b\b\b\b\b\b\b\b\b\b\b\b\b\b\b\b\b\b\b\b\b\b\b\b\b\b\b\b\b\b\b\b\b\b\b\b\b\b\b\b4288/6400 [===================>..........] - ETA: 112s - loss: 2.3009"
       ]
      },
      {
       "output_type": "stream",
       "stream": "stdout",
       "text": [
        "\b\b\b\b\b\b\b\b\b\b\b\b\b\b\b\b\b\b\b\b\b\b\b\b\b\b\b\b\b\b\b\b\b\b\b\b\b\b\b\b\b\b\b\b\b\b\b\b\b\b\b\b\b\b\b\b\b\b\b\b\b\b\b\b\b\b\b\b\b\b4352/6400 [===================>..........] - ETA: 109s - loss: 2.3009"
       ]
      },
      {
       "output_type": "stream",
       "stream": "stdout",
       "text": [
        "\b\b\b\b\b\b\b\b\b\b\b\b\b\b\b\b\b\b\b\b\b\b\b\b\b\b\b\b\b\b\b\b\b\b\b\b\b\b\b\b\b\b\b\b\b\b\b\b\b\b\b\b\b\b\b\b\b\b\b\b\b\b\b\b\b\b\b\b\b\b4416/6400 [===================>..........] - ETA: 106s - loss: 2.3007"
       ]
      },
      {
       "output_type": "stream",
       "stream": "stdout",
       "text": [
        "\b\b\b\b\b\b\b\b\b\b\b\b\b\b\b\b\b\b\b\b\b\b\b\b\b\b\b\b\b\b\b\b\b\b\b\b\b\b\b\b\b\b\b\b\b\b\b\b\b\b\b\b\b\b\b\b\b\b\b\b\b\b\b\b\b\b\b\b\b\b4480/6400 [====================>.........] - ETA: 102s - loss: 2.3009"
       ]
      },
      {
       "output_type": "stream",
       "stream": "stdout",
       "text": [
        "\b\b\b\b\b\b\b\b\b\b\b\b\b\b\b\b\b\b\b\b\b\b\b\b\b\b\b\b\b\b\b\b\b\b\b\b\b\b\b\b\b\b\b\b\b\b\b\b\b\b\b\b\b\b\b\b\b\b\b\b\b\b\b\b\b\b\b\b\b\b4544/6400 [====================>.........] - ETA: 99s - loss: 2.3009 "
       ]
      },
      {
       "output_type": "stream",
       "stream": "stdout",
       "text": [
        "\b\b\b\b\b\b\b\b\b\b\b\b\b\b\b\b\b\b\b\b\b\b\b\b\b\b\b\b\b\b\b\b\b\b\b\b\b\b\b\b\b\b\b\b\b\b\b\b\b\b\b\b\b\b\b\b\b\b\b\b\b\b\b\b\b\b\b\b\b4608/6400 [====================>.........] - ETA: 97s - loss: 2.3008"
       ]
      },
      {
       "output_type": "stream",
       "stream": "stdout",
       "text": [
        "\b\b\b\b\b\b\b\b\b\b\b\b\b\b\b\b\b\b\b\b\b\b\b\b\b\b\b\b\b\b\b\b\b\b\b\b\b\b\b\b\b\b\b\b\b\b\b\b\b\b\b\b\b\b\b\b\b\b\b\b\b\b\b\b\b\b\b\b\b4672/6400 [====================>.........] - ETA: 94s - loss: 2.3007"
       ]
      },
      {
       "output_type": "stream",
       "stream": "stdout",
       "text": [
        "\b\b\b\b\b\b\b\b\b\b\b\b\b\b\b\b\b\b\b\b\b\b\b\b\b\b\b\b\b\b\b\b\b\b\b\b\b\b\b\b\b\b\b\b\b\b\b\b\b\b\b\b\b\b\b\b\b\b\b\b\b\b\b\b\b\b\b\b\b4736/6400 [=====================>........] - ETA: 91s - loss: 2.3007"
       ]
      },
      {
       "output_type": "stream",
       "stream": "stdout",
       "text": [
        "\b\b\b\b\b\b\b\b\b\b\b\b\b\b\b\b\b\b\b\b\b\b\b\b\b\b\b\b\b\b\b\b\b\b\b\b\b\b\b\b\b\b\b\b\b\b\b\b\b\b\b\b\b\b\b\b\b\b\b\b\b\b\b\b\b\b\b\b\b4800/6400 [=====================>........] - ETA: 88s - loss: 2.3008"
       ]
      },
      {
       "output_type": "stream",
       "stream": "stdout",
       "text": [
        "\b\b\b\b\b\b\b\b\b\b\b\b\b\b\b\b\b\b\b\b\b\b\b\b\b\b\b\b\b\b\b\b\b\b\b\b\b\b\b\b\b\b\b\b\b\b\b\b\b\b\b\b\b\b\b\b\b\b\b\b\b\b\b\b\b\b\b\b\b4864/6400 [=====================>........] - ETA: 85s - loss: 2.3007"
       ]
      },
      {
       "output_type": "stream",
       "stream": "stdout",
       "text": [
        "\b\b\b\b\b\b\b\b\b\b\b\b\b\b\b\b\b\b\b\b\b\b\b\b\b\b\b\b\b\b\b\b\b\b\b\b\b\b\b\b\b\b\b\b\b\b\b\b\b\b\b\b\b\b\b\b\b\b\b\b\b\b\b\b\b\b\b\b\b4928/6400 [======================>.......] - ETA: 81s - loss: 2.3009"
       ]
      },
      {
       "output_type": "stream",
       "stream": "stdout",
       "text": [
        "\b\b\b\b\b\b\b\b\b\b\b\b\b\b\b\b\b\b\b\b\b\b\b\b\b\b\b\b\b\b\b\b\b\b\b\b\b\b\b\b\b\b\b\b\b\b\b\b\b\b\b\b\b\b\b\b\b\b\b\b\b\b\b\b\b\b\b\b\b4992/6400 [======================>.......] - ETA: 78s - loss: 2.3009"
       ]
      },
      {
       "output_type": "stream",
       "stream": "stdout",
       "text": [
        "\b\b\b\b\b\b\b\b\b\b\b\b\b\b\b\b\b\b\b\b\b\b\b\b\b\b\b\b\b\b\b\b\b\b\b\b\b\b\b\b\b\b\b\b\b\b\b\b\b\b\b\b\b\b\b\b\b\b\b\b\b\b\b\b\b\b\b\b\b5056/6400 [======================>.......] - ETA: 75s - loss: 2.3010"
       ]
      },
      {
       "output_type": "stream",
       "stream": "stdout",
       "text": [
        "\b\b\b\b\b\b\b\b\b\b\b\b\b\b\b\b\b\b\b\b\b\b\b\b\b\b\b\b\b\b\b\b\b\b\b\b\b\b\b\b\b\b\b\b\b\b\b\b\b\b\b\b\b\b\b\b\b\b\b\b\b\b\b\b\b\b\b\b\b5120/6400 [=======================>......] - ETA: 71s - loss: 2.3010"
       ]
      },
      {
       "output_type": "stream",
       "stream": "stdout",
       "text": [
        "\b\b\b\b\b\b\b\b\b\b\b\b\b\b\b\b\b\b\b\b\b\b\b\b\b\b\b\b\b\b\b\b\b\b\b\b\b\b\b\b\b\b\b\b\b\b\b\b\b\b\b\b\b\b\b\b\b\b\b\b\b\b\b\b\b\b\b\b\b5184/6400 [=======================>......] - ETA: 68s - loss: 2.3010"
       ]
      },
      {
       "output_type": "stream",
       "stream": "stdout",
       "text": [
        "\b\b\b\b\b\b\b\b\b\b\b\b\b\b\b\b\b\b\b\b\b\b\b\b\b\b\b\b\b\b\b\b\b\b\b\b\b\b\b\b\b\b\b\b\b\b\b\b\b\b\b\b\b\b\b\b\b\b\b\b\b\b\b\b\b\b\b\b\b5248/6400 [=======================>......] - ETA: 64s - loss: 2.3010"
       ]
      },
      {
       "output_type": "stream",
       "stream": "stdout",
       "text": [
        "\b\b\b\b\b\b\b\b\b\b\b\b\b\b\b\b\b\b\b\b\b\b\b\b\b\b\b\b\b\b\b\b\b\b\b\b\b\b\b\b\b\b\b\b\b\b\b\b\b\b\b\b\b\b\b\b\b\b\b\b\b\b\b\b\b\b\b\b\b5312/6400 [=======================>......] - ETA: 61s - loss: 2.3010"
       ]
      },
      {
       "output_type": "stream",
       "stream": "stdout",
       "text": [
        "\b\b\b\b\b\b\b\b\b\b\b\b\b\b\b\b\b\b\b\b\b\b\b\b\b\b\b\b\b\b\b\b\b\b\b\b\b\b\b\b\b\b\b\b\b\b\b\b\b\b\b\b\b\b\b\b\b\b\b\b\b\b\b\b\b\b\b\b\b5376/6400 [========================>.....] - ETA: 57s - loss: 2.3011"
       ]
      },
      {
       "output_type": "stream",
       "stream": "stdout",
       "text": [
        "\b\b\b\b\b\b\b\b\b\b\b\b\b\b\b\b\b\b\b\b\b\b\b\b\b\b\b\b\b\b\b\b\b\b\b\b\b\b\b\b\b\b\b\b\b\b\b\b\b\b\b\b\b\b\b\b\b\b\b\b\b\b\b\b\b\b\b\b\b5440/6400 [========================>.....] - ETA: 54s - loss: 2.3012"
       ]
      },
      {
       "output_type": "stream",
       "stream": "stdout",
       "text": [
        "\b\b\b\b\b\b\b\b\b\b\b\b\b\b\b\b\b\b\b\b\b\b\b\b\b\b\b\b\b\b\b\b\b\b\b\b\b\b\b\b\b\b\b\b\b\b\b\b\b\b\b\b\b\b\b\b\b\b\b\b\b\b\b\b\b\b\b\b\b5504/6400 [========================>.....] - ETA: 50s - loss: 2.3012"
       ]
      },
      {
       "output_type": "stream",
       "stream": "stdout",
       "text": [
        "\b\b\b\b\b\b\b\b\b\b\b\b\b\b\b\b\b\b\b\b\b\b\b\b\b\b\b\b\b\b\b\b\b\b\b\b\b\b\b\b\b\b\b\b\b\b\b\b\b\b\b\b\b\b\b\b\b\b\b\b\b\b\b\b\b\b\b\b\b5568/6400 [=========================>....] - ETA: 46s - loss: 2.3013"
       ]
      },
      {
       "output_type": "stream",
       "stream": "stdout",
       "text": [
        "\b\b\b\b\b\b\b\b\b\b\b\b\b\b\b\b\b\b\b\b\b\b\b\b\b\b\b\b\b\b\b\b\b\b\b\b\b\b\b\b\b\b\b\b\b\b\b\b\b\b\b\b\b\b\b\b\b\b\b\b\b\b\b\b\b\b\b\b\b5632/6400 [=========================>....] - ETA: 43s - loss: 2.3012"
       ]
      },
      {
       "output_type": "stream",
       "stream": "stdout",
       "text": [
        "\b\b\b\b\b\b\b\b\b\b\b\b\b\b\b\b\b\b\b\b\b\b\b\b\b\b\b\b\b\b\b\b\b\b\b\b\b\b\b\b\b\b\b\b\b\b\b\b\b\b\b\b\b\b\b\b\b\b\b\b\b\b\b\b\b\b\b\b\b5696/6400 [=========================>....] - ETA: 39s - loss: 2.3012"
       ]
      },
      {
       "output_type": "stream",
       "stream": "stdout",
       "text": [
        "\b\b\b\b\b\b\b\b\b\b\b\b\b\b\b\b\b\b\b\b\b\b\b\b\b\b\b\b\b\b\b\b\b\b\b\b\b\b\b\b\b\b\b\b\b\b\b\b\b\b\b\b\b\b\b\b\b\b\b\b\b\b\b\b\b\b\b\b\b5760/6400 [==========================>...] - ETA: 36s - loss: 2.3013"
       ]
      },
      {
       "output_type": "stream",
       "stream": "stdout",
       "text": [
        "\b\b\b\b\b\b\b\b\b\b\b\b\b\b\b\b\b\b\b\b\b\b\b\b\b\b\b\b\b\b\b\b\b\b\b\b\b\b\b\b\b\b\b\b\b\b\b\b\b\b\b\b\b\b\b\b\b\b\b\b\b\b\b\b\b\b\b\b\b5824/6400 [==========================>...] - ETA: 32s - loss: 2.3013"
       ]
      },
      {
       "output_type": "stream",
       "stream": "stdout",
       "text": [
        "\b\b\b\b\b\b\b\b\b\b\b\b\b\b\b\b\b\b\b\b\b\b\b\b\b\b\b\b\b\b\b\b\b\b\b\b\b\b\b\b\b\b\b\b\b\b\b\b\b\b\b\b\b\b\b\b\b\b\b\b\b\b\b\b\b\b\b\b\b5888/6400 [==========================>...] - ETA: 28s - loss: 2.3012"
       ]
      },
      {
       "output_type": "stream",
       "stream": "stdout",
       "text": [
        "\b\b\b\b\b\b\b\b\b\b\b\b\b\b\b\b\b\b\b\b\b\b\b\b\b\b\b\b\b\b\b\b\b\b\b\b\b\b\b\b\b\b\b\b\b\b\b\b\b\b\b\b\b\b\b\b\b\b\b\b\b\b\b\b\b\b\b\b\b5952/6400 [==========================>...] - ETA: 25s - loss: 2.3011"
       ]
      },
      {
       "output_type": "stream",
       "stream": "stdout",
       "text": [
        "\b\b\b\b\b\b\b\b\b\b\b\b\b\b\b\b\b\b\b\b\b\b\b\b\b\b\b\b\b\b\b\b\b\b\b\b\b\b\b\b\b\b\b\b\b\b\b\b\b\b\b\b\b\b\b\b\b\b\b\b\b\b\b\b\b\b\b\b\b6016/6400 [===========================>..] - ETA: 21s - loss: 2.3011"
       ]
      },
      {
       "output_type": "stream",
       "stream": "stdout",
       "text": [
        "\b\b\b\b\b\b\b\b\b\b\b\b\b\b\b\b\b\b\b\b\b\b\b\b\b\b\b\b\b\b\b\b\b\b\b\b\b\b\b\b\b\b\b\b\b\b\b\b\b\b\b\b\b\b\b\b\b\b\b\b\b\b\b\b\b\b\b\b\b6080/6400 [===========================>..] - ETA: 17s - loss: 2.3009"
       ]
      },
      {
       "output_type": "stream",
       "stream": "stdout",
       "text": [
        "\b\b\b\b\b\b\b\b\b\b\b\b\b\b\b\b\b\b\b\b\b\b\b\b\b\b\b\b\b\b\b\b\b\b\b\b\b\b\b\b\b\b\b\b\b\b\b\b\b\b\b\b\b\b\b\b\b\b\b\b\b\b\b\b\b\b\b\b\b6144/6400 [===========================>..] - ETA: 14s - loss: 2.3009"
       ]
      },
      {
       "output_type": "stream",
       "stream": "stdout",
       "text": [
        "\b\b\b\b\b\b\b\b\b\b\b\b\b\b\b\b\b\b\b\b\b\b\b\b\b\b\b\b\b\b\b\b\b\b\b\b\b\b\b\b\b\b\b\b\b\b\b\b\b\b\b\b\b\b\b\b\b\b\b\b\b\b\b\b\b\b\b\b\b6208/6400 [============================>.] - ETA: 10s - loss: 2.3009"
       ]
      },
      {
       "output_type": "stream",
       "stream": "stdout",
       "text": [
        "\b\b\b\b\b\b\b\b\b\b\b\b\b\b\b\b\b\b\b\b\b\b\b\b\b\b\b\b\b\b\b\b\b\b\b\b\b\b\b\b\b\b\b\b\b\b\b\b\b\b\b\b\b\b\b\b\b\b\b\b\b\b\b\b\b\b\b\b\b6272/6400 [============================>.] - ETA: 7s - loss: 2.3009 "
       ]
      },
      {
       "output_type": "stream",
       "stream": "stdout",
       "text": [
        "\b\b\b\b\b\b\b\b\b\b\b\b\b\b\b\b\b\b\b\b\b\b\b\b\b\b\b\b\b\b\b\b\b\b\b\b\b\b\b\b\b\b\b\b\b\b\b\b\b\b\b\b\b\b\b\b\b\b\b\b\b\b\b\b\b\b\b\b6336/6400 [============================>.] - ETA: 3s - loss: 2.3010"
       ]
      },
      {
       "output_type": "stream",
       "stream": "stdout",
       "text": [
        "\b\b\b\b\b\b\b\b\b\b\b\b\b\b\b\b\b\b\b\b\b\b\b\b\b\b\b\b\b\b\b\b\b\b\b\b\b\b\b\b\b\b\b\b\b\b\b\b\b\b\b\b\b\b\b\b\b\b\b\b\b\b\b\b\b\b\b\b6400/6400 [==============================] - 359s - loss: 2.3010   "
       ]
      },
      {
       "output_type": "stream",
       "stream": "stdout",
       "text": [
        "\n"
       ]
      }
     ],
     "prompt_number": 20
    },
    {
     "cell_type": "code",
     "collapsed": false,
     "input": [
      "print test_set_error(model, n=1000)"
     ],
     "language": "python",
     "metadata": {},
     "outputs": [
      {
       "output_type": "stream",
       "stream": "stdout",
       "text": [
        "98.74\n"
       ]
      }
     ],
     "prompt_number": 21
    },
    {
     "cell_type": "code",
     "collapsed": false,
     "input": [
      "model._predict(test_set_x[:1]).shape"
     ],
     "language": "python",
     "metadata": {},
     "outputs": [
      {
       "metadata": {},
       "output_type": "pyout",
       "prompt_number": 35,
       "text": [
        "(1, 10)"
       ]
      }
     ],
     "prompt_number": 35
    },
    {
     "cell_type": "code",
     "collapsed": false,
     "input": [],
     "language": "python",
     "metadata": {},
     "outputs": []
    }
   ],
   "metadata": {}
  }
 ]
}
{
 "metadata": {
  "name": "",
  "signature": "sha256:eb3cd2cb58e6e4bc0523f9f171c14ccbecec5a6d6eb66551e88ff7cb9edaf34a"
 },
 "nbformat": 3,
 "nbformat_minor": 0,
 "worksheets": [
  {
   "cells": [
    {
     "cell_type": "code",
     "collapsed": false,
     "input": [
      "from collections import defaultdict"
     ],
     "language": "python",
     "metadata": {},
     "outputs": [],
     "prompt_number": 24
    },
    {
     "cell_type": "code",
     "collapsed": false,
     "input": [
      "documents = ['peas porridge hot', 'peas porridge cold', 'peas porridge in the pot', 'nine days old']"
     ],
     "language": "python",
     "metadata": {},
     "outputs": [],
     "prompt_number": 25
    },
    {
     "cell_type": "code",
     "collapsed": false,
     "input": [
      "def build_lexicon(docs):\n",
      "    '''\n",
      "    Given a list of strings representing representing a collection of documents, \n",
      "    return a sorted list of the terms that appear in the documents\n",
      "    '''\n",
      "    lexicon = []\n",
      "    for d in docs:\n",
      "        for t in d.split():\n",
      "            if t not in lexicon:\n",
      "                lexicon.append(t)\n",
      "    return sort(lexicon)"
     ],
     "language": "python",
     "metadata": {},
     "outputs": [],
     "prompt_number": 26
    },
    {
     "cell_type": "code",
     "collapsed": false,
     "input": [
      "print(build_lexicon(documents))"
     ],
     "language": "python",
     "metadata": {},
     "outputs": [
      {
       "output_type": "stream",
       "stream": "stdout",
       "text": [
        "['cold' 'days' 'hot' 'in' 'nine' 'old' 'peas' 'porridge' 'pot' 'the']\n"
       ]
      }
     ],
     "prompt_number": 27
    },
    {
     "cell_type": "code",
     "collapsed": false,
     "input": [
      "def build_inverted_index(documents):\n",
      "    '''\n",
      "    Build an inverted index for a collection of documents: for each term in the \n",
      "    vocabulary, a list of the documents containing that term.\n",
      "    '''\n",
      "    index = defaultdict(list)\n",
      "    lexicon = build_lexicon(documents)\n",
      "    for term in lexicon:\n",
      "        index[term] = []\n",
      "        for d in documents:\n",
      "            if term in d.split():\n",
      "                index[term].append(documents.index(d))\n",
      "    return index"
     ],
     "language": "python",
     "metadata": {},
     "outputs": [],
     "prompt_number": 55
    },
    {
     "cell_type": "code",
     "collapsed": false,
     "input": [
      "print(documents)\n",
      "print(build_inverted_index(documents))"
     ],
     "language": "python",
     "metadata": {},
     "outputs": [
      {
       "output_type": "stream",
       "stream": "stdout",
       "text": [
        "['peas porridge hot', 'peas porridge cold', 'peas porridge in the pot', 'nine days old']\n",
        "defaultdict(<type 'list'>, {'porridge': [0, 1, 2], 'old': [3], 'pot': [2], 'days': [3], 'peas': [0, 1, 2], 'hot': [0], 'nine': [3], 'in': [2], 'cold': [1], 'the': [2]})\n"
       ]
      }
     ],
     "prompt_number": 56
    },
    {
     "cell_type": "code",
     "collapsed": false,
     "input": [
      "def search(query, docs, index = None):\n",
      "    '''\n",
      "    Return a set containing indices of all documents that match the \n",
      "    search query, optionally constructing an inverted index if none \n",
      "    is provided.\n",
      "    '''\n",
      "    hits = []\n",
      "    query_parts = query.split()\n",
      "    if query_parts == []:\n",
      "        return set()\n",
      "    if index == None:\n",
      "        index = build_inverted_index(docs)\n",
      "    individual_hits = [index[part] for part in query_parts]\n",
      "    return set.intersection(*map(set, individual_hits))"
     ],
     "language": "python",
     "metadata": {},
     "outputs": [],
     "prompt_number": 57
    },
    {
     "cell_type": "code",
     "collapsed": false,
     "input": [
      "search('porridge', documents)"
     ],
     "language": "python",
     "metadata": {},
     "outputs": [
      {
       "metadata": {},
       "output_type": "pyout",
       "prompt_number": 54,
       "text": [
        "{0, 1, 2}"
       ]
      }
     ],
     "prompt_number": 54
    },
    {
     "cell_type": "code",
     "collapsed": false,
     "input": [],
     "language": "python",
     "metadata": {},
     "outputs": []
    }
   ],
   "metadata": {}
  }
 ]
}
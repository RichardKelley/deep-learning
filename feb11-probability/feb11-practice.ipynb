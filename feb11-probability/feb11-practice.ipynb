{
 "metadata": {
  "name": "",
  "signature": "sha256:97cb17ded57b2f5f3e5f94757f029f731a380f3742a968fc98da3c431db7db0c"
 },
 "nbformat": 3,
 "nbformat_minor": 0,
 "worksheets": [
  {
   "cells": [
    {
     "cell_type": "heading",
     "level": 1,
     "metadata": {},
     "source": [
      "Probability Practice"
     ]
    },
    {
     "cell_type": "code",
     "collapsed": false,
     "input": [
      "import numpy as np\n",
      "from scipy import integrate"
     ],
     "language": "python",
     "metadata": {},
     "outputs": [],
     "prompt_number": 1
    },
    {
     "cell_type": "code",
     "collapsed": false,
     "input": [
      "def line(x, a, b):\n",
      "    return a * x + b"
     ],
     "language": "python",
     "metadata": {},
     "outputs": [],
     "prompt_number": 2
    },
    {
     "cell_type": "code",
     "collapsed": false,
     "input": [
      "print(integrate.quad(lambda x: line(x, 1, 0), 0, 1))"
     ],
     "language": "python",
     "metadata": {},
     "outputs": [
      {
       "output_type": "stream",
       "stream": "stdout",
       "text": [
        "(0.5, 5.551115123125783e-15)\n"
       ]
      }
     ],
     "prompt_number": 3
    },
    {
     "cell_type": "heading",
     "level": 3,
     "metadata": {},
     "source": [
      "Practice Problems"
     ]
    },
    {
     "cell_type": "markdown",
     "metadata": {},
     "source": [
      "If you can do the following, you probably have a decent grasp of most of the probability that we'll need for the class. In some of the problems, you may find the `np.vectorize` function useful. For the problems below, you should be able to check your code against closed-form formulas."
     ]
    },
    {
     "cell_type": "markdown",
     "metadata": {},
     "source": [
      "1. Define a function that, for a given `x`, `mu`, and `sigma`, computes the value of the normal density at `x`. You may find this helpful: http://en.wikipedia.org/wiki/Normal_distribution.\n",
      "2. Plot the normal density using the function that you defined in 1.\n",
      "2. Suppose that $X$ is normally distributed. Define a function that numerically computes $P(a \\le X \\le b)$ for any $a$, $b$.\n",
      "3. Suppose that $X$ is normally distributed. Define a function that shows computes $P(-\\infty \\le X \\le \\infty)$.\n",
      "4. Suppose that $X$ is normally distributed. Define a function that computes the mean of $X$.\n",
      "5. Suppose that $X$ is normally distributed. Define a function that computes the standard deviation of $X$.\n",
      "6. Suppose that $X$ is normally distributed. Define a function that computes the entropy of $X$.\n",
      "7. Suppose that $X$ is normally distributed. Give a plot showing how the entropy changes as a function of $\\mu$.\n",
      "8. Suppose that $X$ is normally distributed. Give a plot showing how the entropy changes as a function of $\\sigma$.\n",
      "9. Define a function that for a given $x \\in \\mathbb{R}^2$, $\\mu \\in \\mathbb{R}^2$, and $\\Sigma \\in \\mathbb{R}^{2 \\times 2}$, computes the value of the multivariate normal density at $x$. You'll find this helpful: http://en.wikipedia.org/wiki/Multivariate_normal_distribution.\n",
      "10. Write code that shows that if $(x_1, \\ldots, x_n)$ is multivariate normal, then so are all of the marginal distributions. You can just do this for the bivariate case if you'd like."
     ]
    },
    {
     "cell_type": "heading",
     "level": 3,
     "metadata": {},
     "source": [
      "Additional Thoughts"
     ]
    },
    {
     "cell_type": "markdown",
     "metadata": {},
     "source": [
      "One of things that makes the above problems easy is that you get to assume that $X \\sim N(\\mu, \\sigma)$. How would you change your code to work for other continuous distributions? How about for discrete distributions? Think about how you do this for the Beta distribution: http://en.wikipedia.org/wiki/Beta_distribution."
     ]
    },
    {
     "cell_type": "code",
     "collapsed": false,
     "input": [],
     "language": "python",
     "metadata": {},
     "outputs": []
    }
   ],
   "metadata": {}
  }
 ]
}
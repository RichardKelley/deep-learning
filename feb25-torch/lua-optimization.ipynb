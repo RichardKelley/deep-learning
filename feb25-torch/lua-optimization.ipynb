{
 "metadata": {
  "language": "lua",
  "name": "",
  "signature": "sha256:31f010f980063eb094b346a192d5ef817be042dee810477325badb80b7ffce5e"
 },
 "nbformat": 3,
 "nbformat_minor": 0,
 "worksheets": [
  {
   "cells": [
    {
     "cell_type": "code",
     "collapsed": false,
     "input": [
      "require 'optim'"
     ],
     "language": "python",
     "metadata": {},
     "outputs": []
    },
    {
     "cell_type": "code",
     "collapsed": false,
     "input": [
      "function square(x)\n",
      "    local xx = x:clone()\n",
      "    xx:cmul(xx)\n",
      "    local fout = xx:sum()\n",
      "    \n",
      "    local dx = torch.Tensor():resizeAs(x):copy(x)\n",
      "    dx:mul(2)\n",
      "    \n",
      "    return fout, dx\n",
      "end"
     ],
     "language": "python",
     "metadata": {},
     "outputs": []
    },
    {
     "cell_type": "code",
     "collapsed": false,
     "input": [
      "x = torch.Tensor(2):fill(5)\n",
      "print(x)"
     ],
     "language": "python",
     "metadata": {},
     "outputs": []
    },
    {
     "cell_type": "code",
     "collapsed": false,
     "input": [
      "state = {\n",
      "   learningRate = 1e-3,\n",
      "   momentum = 0.5\n",
      "}\n",
      "\n",
      "fx = {}"
     ],
     "language": "python",
     "metadata": {},
     "outputs": []
    },
    {
     "cell_type": "code",
     "collapsed": false,
     "input": [
      "-- there's an issue with the way we write to the table... What is it?\n",
      "for i = 1, 100001 do\n",
      "    x,f = optim.sgd(square,x, state)\n",
      "    if (i-1) % 100 == 0 then\n",
      "        table.insert(fx, {i, x, f[1]})\n",
      "    end\n",
      "end"
     ],
     "language": "python",
     "metadata": {},
     "outputs": []
    },
    {
     "cell_type": "code",
     "collapsed": false,
     "input": [
      "print(fx[100])"
     ],
     "language": "python",
     "metadata": {},
     "outputs": []
    },
    {
     "cell_type": "code",
     "collapsed": false,
     "input": [
      "x"
     ],
     "language": "python",
     "metadata": {},
     "outputs": []
    },
    {
     "cell_type": "code",
     "collapsed": false,
     "input": [
      "for i = 1,#fx do\n",
      "   print(fx[i][2]) \n",
      "end"
     ],
     "language": "python",
     "metadata": {},
     "outputs": []
    },
    {
     "cell_type": "code",
     "collapsed": false,
     "input": [],
     "language": "python",
     "metadata": {},
     "outputs": []
    }
   ],
   "metadata": {}
  }
 ]
}
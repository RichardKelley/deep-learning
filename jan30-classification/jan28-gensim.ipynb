{
 "metadata": {
  "name": "",
  "signature": "sha256:7e406f34b7fb158b24970d9512764b4afda80cd328a3a5539303385abaa0645a"
 },
 "nbformat": 3,
 "nbformat_minor": 0,
 "worksheets": [
  {
   "cells": [
    {
     "cell_type": "heading",
     "level": 1,
     "metadata": {},
     "source": [
      "Scikit-Learn and Gensim"
     ]
    },
    {
     "cell_type": "markdown",
     "metadata": {},
     "source": [
      "The goal of this notebook is to show you two neat Python libraries: scikit-learn and gensim. Scikit-learn is a library for doing machine learning in Python. It has good implementations of many standard machine learning algorithms, and can be used in many domains. Gensim is a Python library for topic modeling (text analysis). It includes a Python implementation of \"word2vec\", a technique developed by Google researchers for representing words from a large corpus of text."
     ]
    },
    {
     "cell_type": "code",
     "collapsed": false,
     "input": [
      "import gensim\n",
      "from sklearn.decomposition import PCA"
     ],
     "language": "python",
     "metadata": {},
     "outputs": [],
     "prompt_number": 8
    },
    {
     "cell_type": "code",
     "collapsed": false,
     "input": [
      "def build_lexicon(docs):\n",
      "    '''\n",
      "    Given a list of strings representing representing a collection of documents, \n",
      "    return a sorted list of the terms that appear in the documents\n",
      "    '''\n",
      "    lexicon = []\n",
      "    for d in docs:\n",
      "        for t in d.split():\n",
      "            if t not in lexicon:\n",
      "                lexicon.append(t)\n",
      "    return sort(lexicon)"
     ],
     "language": "python",
     "metadata": {},
     "outputs": [],
     "prompt_number": 6
    },
    {
     "cell_type": "markdown",
     "metadata": {},
     "source": [
      "Because we're using a pretrained model from Google, the documents here don't really do anything for us, except give us the list of terms to visualize. "
     ]
    },
    {
     "cell_type": "code",
     "collapsed": false,
     "input": [
      "documents = ['The dog ran fast', 'The cat sat still', 'The gazelle ran fast', 'The lion was still', 'The dog ate the gazelle']"
     ],
     "language": "python",
     "metadata": {},
     "outputs": [],
     "prompt_number": 9
    },
    {
     "cell_type": "code",
     "collapsed": false,
     "input": [
      "model = gensim.models.Word2Vec.load_word2vec_format('./GoogleNews-vectors-negative300.bin', binary=True)"
     ],
     "language": "python",
     "metadata": {},
     "outputs": [],
     "prompt_number": 5
    },
    {
     "cell_type": "markdown",
     "metadata": {},
     "source": [
      "The representation of a word in `word2vec` is a dense vector of real numbers. In the present case, the dimensionality of each vector is 300:"
     ]
    },
    {
     "cell_type": "code",
     "collapsed": false,
     "input": [
      "model['cat']"
     ],
     "language": "python",
     "metadata": {},
     "outputs": [
      {
       "metadata": {},
       "output_type": "pyout",
       "prompt_number": 38,
       "text": [
        "array([ 0.0123291 ,  0.20410156, -0.28515625,  0.21679688,  0.11816406,\n",
        "        0.08300781,  0.04980469, -0.00952148,  0.22070312, -0.12597656,\n",
        "        0.08056641, -0.5859375 , -0.00445557, -0.296875  , -0.01312256,\n",
        "       -0.08349609,  0.05053711,  0.15136719, -0.44921875, -0.0135498 ,\n",
        "        0.21484375, -0.14746094,  0.22460938, -0.125     , -0.09716797,\n",
        "        0.24902344, -0.2890625 ,  0.36523438,  0.41210938, -0.0859375 ,\n",
        "       -0.07861328, -0.19726562, -0.09082031, -0.14160156, -0.10253906,\n",
        "        0.13085938, -0.00346375,  0.07226562,  0.04418945,  0.34570312,\n",
        "        0.07470703, -0.11230469,  0.06738281,  0.11230469,  0.01977539,\n",
        "       -0.12353516,  0.20996094, -0.07226562, -0.02783203,  0.05541992,\n",
        "       -0.33398438,  0.08544922,  0.34375   ,  0.13964844,  0.04931641,\n",
        "       -0.13476562,  0.16308594, -0.37304688,  0.39648438,  0.10693359,\n",
        "        0.22167969,  0.21289062, -0.08984375,  0.20703125,  0.08935547,\n",
        "       -0.08251953,  0.05957031,  0.10205078, -0.19238281, -0.09082031,\n",
        "        0.4921875 ,  0.03955078, -0.07080078, -0.0019989 , -0.23046875,\n",
        "        0.25585938,  0.08984375, -0.10644531,  0.00105286, -0.05883789,\n",
        "        0.05102539, -0.0291748 ,  0.19335938, -0.14160156, -0.33398438,\n",
        "        0.08154297, -0.27539062,  0.10058594, -0.10449219, -0.12353516,\n",
        "       -0.140625  ,  0.03491211, -0.11767578, -0.1796875 , -0.21484375,\n",
        "       -0.23828125,  0.08447266, -0.07519531, -0.25976562, -0.21289062,\n",
        "       -0.22363281, -0.09716797,  0.11572266,  0.15429688,  0.07373047,\n",
        "       -0.27539062,  0.14257812, -0.0201416 ,  0.10009766, -0.19042969,\n",
        "       -0.09375   ,  0.14160156,  0.17089844,  0.3125    , -0.16699219,\n",
        "       -0.08691406, -0.05004883, -0.24902344, -0.20800781, -0.09423828,\n",
        "       -0.12255859, -0.09472656, -0.390625  , -0.06640625, -0.31640625,\n",
        "        0.10986328, -0.00156403,  0.04345703,  0.15625   , -0.18945312,\n",
        "       -0.03491211,  0.03393555, -0.14453125,  0.01611328, -0.14160156,\n",
        "       -0.02392578,  0.01501465,  0.07568359,  0.10742188,  0.12695312,\n",
        "        0.10693359, -0.01184082, -0.24023438,  0.0291748 ,  0.16210938,\n",
        "        0.19921875, -0.28125   ,  0.16699219, -0.11621094, -0.25585938,\n",
        "        0.38671875, -0.06640625, -0.4609375 , -0.06176758, -0.14453125,\n",
        "       -0.11621094,  0.05688477,  0.03588867, -0.10693359,  0.18847656,\n",
        "       -0.16699219, -0.01794434,  0.10986328, -0.12353516, -0.16308594,\n",
        "       -0.14453125,  0.12890625,  0.11523438,  0.13671875,  0.05688477,\n",
        "       -0.08105469, -0.06152344, -0.06689453,  0.27929688, -0.19628906,\n",
        "        0.07226562,  0.12304688, -0.20996094, -0.22070312,  0.21386719,\n",
        "       -0.1484375 , -0.05932617,  0.05224609,  0.06445312, -0.02636719,\n",
        "        0.13183594,  0.19433594,  0.27148438,  0.18652344,  0.140625  ,\n",
        "        0.06542969, -0.14453125,  0.05029297,  0.08837891,  0.12255859,\n",
        "        0.26757812,  0.0534668 , -0.32226562, -0.20703125,  0.18164062,\n",
        "        0.04418945, -0.22167969, -0.13769531, -0.04174805, -0.00286865,\n",
        "        0.04077148,  0.07275391, -0.08300781,  0.08398438, -0.3359375 ,\n",
        "       -0.40039062,  0.01757812, -0.18652344, -0.0480957 , -0.19140625,\n",
        "        0.10107422,  0.09277344, -0.30664062, -0.19921875, -0.0168457 ,\n",
        "        0.12207031,  0.14648438, -0.12890625, -0.23535156, -0.05371094,\n",
        "       -0.06640625,  0.06884766, -0.03637695,  0.2109375 , -0.06005859,\n",
        "        0.19335938,  0.05151367, -0.05322266,  0.02893066, -0.27539062,\n",
        "        0.08447266,  0.328125  ,  0.01818848,  0.01495361,  0.04711914,\n",
        "        0.37695312, -0.21875   , -0.03393555,  0.01116943,  0.36914062,\n",
        "        0.02160645,  0.03466797,  0.07275391,  0.16015625, -0.16503906,\n",
        "       -0.296875  ,  0.15039062, -0.29101562,  0.13964844,  0.00448608,\n",
        "        0.171875  , -0.21972656,  0.09326172, -0.19042969,  0.01599121,\n",
        "       -0.09228516,  0.15722656, -0.14160156, -0.0534668 ,  0.03613281,\n",
        "        0.23632812, -0.15136719, -0.00689697, -0.27148438, -0.07128906,\n",
        "       -0.16503906,  0.18457031, -0.08398438,  0.18554688,  0.11669922,\n",
        "        0.02758789, -0.04760742,  0.17871094,  0.06542969, -0.03540039,\n",
        "        0.22949219,  0.02697754, -0.09765625,  0.26953125,  0.08349609,\n",
        "       -0.13085938, -0.10107422, -0.00738525,  0.07128906,  0.14941406,\n",
        "       -0.20605469,  0.18066406, -0.15820312,  0.05932617,  0.28710938,\n",
        "       -0.04663086,  0.15136719,  0.4921875 , -0.27539062,  0.05615234], dtype=float32)"
       ]
      }
     ],
     "prompt_number": 38
    },
    {
     "cell_type": "code",
     "collapsed": false,
     "input": [
      "lexicon = build_lexicon(documents)\n",
      "data = [model[word] for word in lexicon]"
     ],
     "language": "python",
     "metadata": {},
     "outputs": [],
     "prompt_number": 18
    },
    {
     "cell_type": "markdown",
     "metadata": {},
     "source": [
      "Scikit learn has an implementation of PCA, which we use here to reduce the dimensionality of our word vectors from 300 to 2:"
     ]
    },
    {
     "cell_type": "code",
     "collapsed": false,
     "input": [
      "pca = PCA(n_components=2)"
     ],
     "language": "python",
     "metadata": {},
     "outputs": [],
     "prompt_number": 41
    },
    {
     "cell_type": "code",
     "collapsed": false,
     "input": [
      "pca.fit(data)"
     ],
     "language": "python",
     "metadata": {},
     "outputs": [
      {
       "metadata": {},
       "output_type": "pyout",
       "prompt_number": 42,
       "text": [
        "PCA(copy=True, n_components=2, whiten=False)"
       ]
      }
     ],
     "prompt_number": 42
    },
    {
     "cell_type": "code",
     "collapsed": false,
     "input": [
      "data_transformed = np.asarray(pca.transform(data))"
     ],
     "language": "python",
     "metadata": {},
     "outputs": [],
     "prompt_number": 44
    },
    {
     "cell_type": "code",
     "collapsed": false,
     "input": [
      "fig = plt.figure(figsize=(10,6))\n",
      "ax = fig.add_subplot(1,1,1)\n",
      "ax.set_xlim([-1.5,1.5])\n",
      "ax.set_ylim([-1.5,1.5])\n",
      "\n",
      "for n in range(data_transformed.shape[0]):\n",
      "    data_transformed[n,0] = data_transformed[n,0] / math.sqrt((data_transformed[n,0]**2 + data_transformed[n,1]**2)) + np.random.normal(0, 0.01)\n",
      "    data_transformed[n,1] = data_transformed[n,1] / math.sqrt((data_transformed[n,0]**2 + data_transformed[n,1]**2)) + np.random.normal(0, 0.01)\n",
      "    \n",
      "colors = np.r_[np.linspace(0.1, 1, data_transformed.shape[0]), np.linspace(0.1, 1, data_transformed.shape[0])] \n",
      "mymap = plt.get_cmap(\"Set1\")\n",
      "my_colors = mymap(colors)\n",
      "\n",
      "scatter(data_transformed[:,0], data_transformed[:,1], \n",
      "                c=colors, edgecolors='None',\n",
      "                cmap=mymap)\n",
      "for n in range(data_transformed.shape[0]):\n",
      "    scatter(data_transformed[n,0], data_transformed[n,1], \n",
      "                    color=my_colors[n], edgecolors='None',\n",
      "                    label=\"%s\" %(lexicon[n]))\n",
      "plt.legend(scatterpoints=1)\n",
      "plt.tight_layout()\n",
      "\n",
      "plt.show()\n",
      "\n",
      "for idx, d in enumerate(documents):\n",
      "    print(idx, d)"
     ],
     "language": "python",
     "metadata": {},
     "outputs": [
      {
       "metadata": {},
       "output_type": "display_data",
       "png": "[encoded data removed]",
       "text": [
        "<matplotlib.figure.Figure at 0x218d4dd10>"
       ]
      },
      {
       "output_type": "stream",
       "stream": "stdout",
       "text": [
        "(0, 'The dog ran fast')\n",
        "(1, 'The cat sat still')\n",
        "(2, 'The gazelle ran fast')\n",
        "(3, 'The lion was still')\n",
        "(4, 'The dog ate the gazelle')\n"
       ]
      }
     ],
     "prompt_number": 46
    },
    {
     "cell_type": "code",
     "collapsed": false,
     "input": [],
     "language": "python",
     "metadata": {},
     "outputs": []
    }
   ],
   "metadata": {}
  }
 ]
}
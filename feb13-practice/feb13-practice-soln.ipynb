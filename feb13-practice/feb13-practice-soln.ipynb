{
 "metadata": {
  "name": "",
  "signature": "sha256:961695121c673e85afc636f452814a55678ac66bf3a443ccc98472ce08a2c091"
 },
 "nbformat": 3,
 "nbformat_minor": 0,
 "worksheets": [
  {
   "cells": [
    {
     "cell_type": "code",
     "collapsed": false,
     "input": [
      "import numpy as np\n",
      "from scipy import integrate"
     ],
     "language": "python",
     "metadata": {},
     "outputs": [],
     "prompt_number": 1
    },
    {
     "cell_type": "heading",
     "level": 6,
     "metadata": {},
     "source": [
      "1 - Define a function that, for a given `x`, `mu`, and `sigma`, computes the value of the normal density at `x`."
     ]
    },
    {
     "cell_type": "code",
     "collapsed": false,
     "input": [
      "def dnorm(x, mu, sigma):\n",
      "    return (1.0 / (sigma * sqrt(2 * pi))) * math.exp( -(x - mu)**2 / (2 * sigma**2))"
     ],
     "language": "python",
     "metadata": {},
     "outputs": [],
     "prompt_number": 107
    },
    {
     "cell_type": "heading",
     "level": 6,
     "metadata": {},
     "source": [
      "2 - Plot the normal density using the function that you defined in 1."
     ]
    },
    {
     "cell_type": "code",
     "collapsed": false,
     "input": [
      "x = np.linspace(-5, 5, 1000)\n",
      "dnorm_vec = np.vectorize(dnorm)\n",
      "y = dnorm_vec(x, 0, 1)\n",
      "plot(x,y)"
     ],
     "language": "python",
     "metadata": {},
     "outputs": [
      {
       "metadata": {},
       "output_type": "pyout",
       "prompt_number": 109,
       "text": [
        "[<matplotlib.lines.Line2D at 0x112e2b4d0>]"
       ]
      },
      {
       "metadata": {},
       "output_type": "display_data",
       "png": "[encoded data removed]",
       "text": [
        "<matplotlib.figure.Figure at 0x111f99590>"
       ]
      }
     ],
     "prompt_number": 109
    },
    {
     "cell_type": "heading",
     "level": 6,
     "metadata": {},
     "source": [
      "3 - Suppose that $X$ is normally distributed. Define a function that numerically computes $P(a \\le X \\le b)$ for any $a$, $b$."
     ]
    },
    {
     "cell_type": "code",
     "collapsed": false,
     "input": [
      "def pnorm(a, b, mu, sigma):\n",
      "    return integrate.quad(lambda x : dnorm(x, mu, sigma), a, b)"
     ],
     "language": "python",
     "metadata": {},
     "outputs": [],
     "prompt_number": 10
    },
    {
     "cell_type": "heading",
     "level": 6,
     "metadata": {},
     "source": [
      "4 - Suppose that $X$ is normally distributed. Define a function that shows computes $P(-\\infty \\le X \\le \\infty)$."
     ]
    },
    {
     "cell_type": "code",
     "collapsed": false,
     "input": [
      "def normalized(mu, sigma):\n",
      "    return pnorm(-inf, inf, mu, sigma)"
     ],
     "language": "python",
     "metadata": {},
     "outputs": [],
     "prompt_number": 13
    },
    {
     "cell_type": "heading",
     "level": 6,
     "metadata": {},
     "source": [
      "5 - Suppose that $X$ is normally distributed. Define a function that computes the mean of $X$."
     ]
    },
    {
     "cell_type": "code",
     "collapsed": false,
     "input": [
      "def normal_mean(mu, sigma):\n",
      "    return integrate.quad(lambda x : x * dnorm(x, mu, sigma), -inf, inf)"
     ],
     "language": "python",
     "metadata": {},
     "outputs": [],
     "prompt_number": 17
    },
    {
     "cell_type": "heading",
     "level": 6,
     "metadata": {},
     "source": [
      "6 - Suppose that $X$ is normally distributed. Define a function that computes the standard deviation of $X$."
     ]
    },
    {
     "cell_type": "code",
     "collapsed": false,
     "input": [
      "def normal_sd(mu, sigma):\n",
      "    var = integrate.quad(lambda x : (x - mu)**2 * dnorm(x, mu, sigma), -inf, inf)[0]\n",
      "    return math.sqrt(var)"
     ],
     "language": "python",
     "metadata": {},
     "outputs": [],
     "prompt_number": 28
    },
    {
     "cell_type": "heading",
     "level": 6,
     "metadata": {},
     "source": [
      "7 - Suppose that $X$ is normally distributed. Define a function that computes the entropy of $X$."
     ]
    },
    {
     "cell_type": "code",
     "collapsed": false,
     "input": [
      "def normal_entropy(mu, sigma):\n",
      "    return integrate.quad(lambda x : -dnorm(x, mu, sigma) * np.log(dnorm(x, mu, sigma)), -(mu + 10 * sigma), mu + 10 * sigma)[0]"
     ],
     "language": "python",
     "metadata": {},
     "outputs": [],
     "prompt_number": 102
    },
    {
     "cell_type": "code",
     "collapsed": false,
     "input": [
      "normal_entropy(0, 1)"
     ],
     "language": "python",
     "metadata": {},
     "outputs": [
      {
       "metadata": {},
       "output_type": "pyout",
       "prompt_number": 103,
       "text": [
        "1.418938533204673"
       ]
      }
     ],
     "prompt_number": 103
    },
    {
     "cell_type": "heading",
     "level": 6,
     "metadata": {},
     "source": [
      "8 - Suppose that $X$ is normally distributed. Give a plot showing how the entropy changes as a function of $\\mu$."
     ]
    },
    {
     "cell_type": "code",
     "collapsed": false,
     "input": [
      "x = linspace(-1, 10, 100)\n",
      "entropy_v = np.vectorize(normal_entropy)\n",
      "y = entropy_v(x, 1)\n",
      "plot(x,y)"
     ],
     "language": "python",
     "metadata": {},
     "outputs": [
      {
       "metadata": {},
       "output_type": "pyout",
       "prompt_number": 105,
       "text": [
        "[<matplotlib.lines.Line2D at 0x112c5c8d0>]"
       ]
      },
      {
       "metadata": {},
       "output_type": "display_data",
       "png": "[encoded data removed]",
       "text": [
        "<matplotlib.figure.Figure at 0x112c39450>"
       ]
      }
     ],
     "prompt_number": 105
    },
    {
     "cell_type": "heading",
     "level": 6,
     "metadata": {},
     "source": [
      "9 - Suppose that $X$ is normally distributed. Give a plot showing how the entropy changes as a function of $\\sigma$."
     ]
    },
    {
     "cell_type": "code",
     "collapsed": false,
     "input": [
      "x = linspace(0.1, 1000, 1000)\n",
      "entropy_v = np.vectorize(normal_entropy)\n",
      "y = entropy_v(0, x)\n",
      "plot(x,y)"
     ],
     "language": "python",
     "metadata": {},
     "outputs": [
      {
       "metadata": {},
       "output_type": "pyout",
       "prompt_number": 77,
       "text": [
        "[<matplotlib.lines.Line2D at 0x1125eb6d0>]"
       ]
      },
      {
       "metadata": {},
       "output_type": "display_data",
       "png": "[encoded data removed]",
       "text": [
        "<matplotlib.figure.Figure at 0x111df5750>"
       ]
      }
     ],
     "prompt_number": 77
    },
    {
     "cell_type": "heading",
     "level": 6,
     "metadata": {},
     "source": [
      "10 - Define a function that for a given $x \\in \\mathbb{R}^2$, $\\mu \\in \\mathbb{R}^2$, and $\\Sigma \\in \\mathbb{R}^{2 \\times 2}$, computes the value of the multivariate normal density at $x$. "
     ]
    },
    {
     "cell_type": "code",
     "collapsed": false,
     "input": [
      "def mdnorm(x, mu, sigma):\n",
      "    det = np.linalg.det(sigma)\n",
      "    inv = np.linalg.inv(sigma)\n",
      "    c = 1.0 / (2 * pi * math.sqrt(det))\n",
      "    tmp = np.dot(inv, (x - mu))\n",
      "    d = np.dot((x - mu), tmp)\n",
      "    return c * np.exp(-d/2.0)"
     ],
     "language": "python",
     "metadata": {},
     "outputs": [],
     "prompt_number": 78
    },
    {
     "cell_type": "code",
     "collapsed": false,
     "input": [
      "x = np.asarray([0,0])\n",
      "mu = np.asarray([0,0])\n",
      "sigma = np.eye(2)\n",
      "\n",
      "print(mdnorm(x,mu,sigma))"
     ],
     "language": "python",
     "metadata": {},
     "outputs": [
      {
       "output_type": "stream",
       "stream": "stdout",
       "text": [
        "0.159154943092\n"
       ]
      }
     ],
     "prompt_number": 82
    },
    {
     "cell_type": "heading",
     "level": 6,
     "metadata": {},
     "source": [
      "11 - Write code that shows that if $(x_1, \\ldots, x_n)$ is multivariate normal, then so are all of the marginal distributions. You can just do this for the bivariate case if you'd like."
     ]
    },
    {
     "cell_type": "code",
     "collapsed": false,
     "input": [
      "# these are density functions\n",
      "def marginal_x(x, mu, sigma):\n",
      "    fn = lambda y : mdnorm([x, y], mu, sigma)\n",
      "    return integrate.quad(fn, -inf, inf)[0]\n",
      "\n",
      "def marginal_y(y, mu, sigma):\n",
      "    fn = lambda x: mdnorm([x,y], mu, sigma)\n",
      "    return integrate.quad(fn, -inf, inf)[0]"
     ],
     "language": "python",
     "metadata": {},
     "outputs": [],
     "prompt_number": 100
    },
    {
     "cell_type": "code",
     "collapsed": false,
     "input": [
      "mu = np.asarray([0,0])\n",
      "sigma = np.eye(2)\n",
      "\n",
      "x = np.linspace(-5, 5, 1000)\n",
      "y = np.vectorize(lambda y : marginal_x(y, mu, sigma))(x)\n",
      "\n",
      "plot(x,y)\n"
     ],
     "language": "python",
     "metadata": {},
     "outputs": [
      {
       "metadata": {},
       "output_type": "pyout",
       "prompt_number": 93,
       "text": [
        "[<matplotlib.lines.Line2D at 0x1127bd050>]"
       ]
      },
      {
       "metadata": {},
       "output_type": "display_data",
       "png": "[encoded data removed]",
       "text": [
        "<matplotlib.figure.Figure at 0x1126a8f90>"
       ]
      }
     ],
     "prompt_number": 93
    },
    {
     "cell_type": "code",
     "collapsed": false,
     "input": [
      "mu = np.asarray([4,0])\n",
      "sigma = np.eye(2)\n",
      "\n",
      "y = np.linspace(-10, 10, 1000)\n",
      "x = np.vectorize(lambda x : marginal_y(x, mu, sigma))(y)\n",
      "\n",
      "plot(y,x)"
     ],
     "language": "python",
     "metadata": {},
     "outputs": [
      {
       "metadata": {},
       "output_type": "pyout",
       "prompt_number": 99,
       "text": [
        "[<matplotlib.lines.Line2D at 0x112ab2c10>]"
       ]
      },
      {
       "metadata": {},
       "output_type": "display_data",
       "png": "[encoded data removed]",
       "text": [
        "<matplotlib.figure.Figure at 0x112a14290>"
       ]
      }
     ],
     "prompt_number": 99
    },
    {
     "cell_type": "code",
     "collapsed": false,
     "input": [],
     "language": "python",
     "metadata": {},
     "outputs": []
    }
   ],
   "metadata": {}
  }
 ]
}